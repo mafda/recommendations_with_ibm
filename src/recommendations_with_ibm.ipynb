{
 "cells": [
  {
   "cell_type": "markdown",
   "metadata": {},
   "source": [
    "# Recommendations with IBM\n",
    "\n",
    "In this notebook, I will be putting your recommendation skills to use on real\n",
    "data from the IBM Watson Studio platform. \n",
    "\n",
    "By following the table of contents, I will build out a number of different\n",
    "methods for making recommendations that can be used for different situations. \n",
    "\n",
    "\n",
    "## Table of Contents\n",
    "\n",
    "I. [Exploratory Data Analysis](#Exploratory-Data-Analysis)<br>\n",
    "II. [Rank Based Recommendations](#Rank)<br>\n",
    "III. [User-User Based Collaborative Filtering](#User-User)<br>\n",
    "IV. [Content Based Recommendations (EXTRA - NOT REQUIRED)](#Content-Recs)<br>\n",
    "V. [Matrix Factorization](#Matrix-Fact)<br>\n",
    "VI. [Extras & Concluding](#conclusions)"
   ]
  },
  {
   "cell_type": "code",
   "execution_count": 1,
   "metadata": {},
   "outputs": [],
   "source": [
    "from subprocess import call\n",
    "\n",
    "import matplotlib.pyplot as plt\n",
    "import numpy as np\n",
    "import pandas as pd\n",
    "\n",
    "import project_tests as t\n"
   ]
  },
  {
   "cell_type": "code",
   "execution_count": 2,
   "metadata": {
    "collapsed": true
   },
   "outputs": [],
   "source": [
    "df = pd.read_csv('../data/user-item-interactions.csv')\n",
    "df_content = pd.read_csv('../data/articles_community.csv')\n",
    "del df['Unnamed: 0']\n",
    "del df_content['Unnamed: 0']"
   ]
  },
  {
   "cell_type": "code",
   "execution_count": 3,
   "metadata": {},
   "outputs": [
    {
     "name": "stdout",
     "output_type": "stream",
     "text": [
      "(45993, 3)\n",
      "article_id title email\n"
     ]
    },
    {
     "data": {
      "text/html": [
       "<div>\n",
       "<style scoped>\n",
       "    .dataframe tbody tr th:only-of-type {\n",
       "        vertical-align: middle;\n",
       "    }\n",
       "\n",
       "    .dataframe tbody tr th {\n",
       "        vertical-align: top;\n",
       "    }\n",
       "\n",
       "    .dataframe thead th {\n",
       "        text-align: right;\n",
       "    }\n",
       "</style>\n",
       "<table border=\"1\" class=\"dataframe\">\n",
       "  <thead>\n",
       "    <tr style=\"text-align: right;\">\n",
       "      <th></th>\n",
       "      <th>article_id</th>\n",
       "      <th>title</th>\n",
       "      <th>email</th>\n",
       "    </tr>\n",
       "  </thead>\n",
       "  <tbody>\n",
       "    <tr>\n",
       "      <th>0</th>\n",
       "      <td>1430.0</td>\n",
       "      <td>using pixiedust for fast, flexible, and easier...</td>\n",
       "      <td>ef5f11f77ba020cd36e1105a00ab868bbdbf7fe7</td>\n",
       "    </tr>\n",
       "    <tr>\n",
       "      <th>1</th>\n",
       "      <td>1314.0</td>\n",
       "      <td>healthcare python streaming application demo</td>\n",
       "      <td>083cbdfa93c8444beaa4c5f5e0f5f9198e4f9e0b</td>\n",
       "    </tr>\n",
       "    <tr>\n",
       "      <th>2</th>\n",
       "      <td>1429.0</td>\n",
       "      <td>use deep learning for image classification</td>\n",
       "      <td>b96a4f2e92d8572034b1e9b28f9ac673765cd074</td>\n",
       "    </tr>\n",
       "    <tr>\n",
       "      <th>3</th>\n",
       "      <td>1338.0</td>\n",
       "      <td>ml optimization using cognitive assistant</td>\n",
       "      <td>06485706b34a5c9bf2a0ecdac41daf7e7654ceb7</td>\n",
       "    </tr>\n",
       "    <tr>\n",
       "      <th>4</th>\n",
       "      <td>1276.0</td>\n",
       "      <td>deploy your python model as a restful api</td>\n",
       "      <td>f01220c46fc92c6e6b161b1849de11faacd7ccb2</td>\n",
       "    </tr>\n",
       "  </tbody>\n",
       "</table>\n",
       "</div>"
      ],
      "text/plain": [
       "   article_id                                              title  \\\n",
       "0      1430.0  using pixiedust for fast, flexible, and easier...   \n",
       "1      1314.0       healthcare python streaming application demo   \n",
       "2      1429.0         use deep learning for image classification   \n",
       "3      1338.0          ml optimization using cognitive assistant   \n",
       "4      1276.0          deploy your python model as a restful api   \n",
       "\n",
       "                                      email  \n",
       "0  ef5f11f77ba020cd36e1105a00ab868bbdbf7fe7  \n",
       "1  083cbdfa93c8444beaa4c5f5e0f5f9198e4f9e0b  \n",
       "2  b96a4f2e92d8572034b1e9b28f9ac673765cd074  \n",
       "3  06485706b34a5c9bf2a0ecdac41daf7e7654ceb7  \n",
       "4  f01220c46fc92c6e6b161b1849de11faacd7ccb2  "
      ]
     },
     "execution_count": 3,
     "metadata": {},
     "output_type": "execute_result"
    }
   ],
   "source": [
    "# Show df to get an idea of the data\n",
    "print(df.shape)\n",
    "print(*df.columns)\n",
    "df.head()"
   ]
  },
  {
   "cell_type": "code",
   "execution_count": 4,
   "metadata": {
    "collapsed": true
   },
   "outputs": [
    {
     "name": "stdout",
     "output_type": "stream",
     "text": [
      "(1056, 5)\n",
      "doc_body doc_description doc_full_name doc_status article_id\n"
     ]
    },
    {
     "data": {
      "text/html": [
       "<div>\n",
       "<style scoped>\n",
       "    .dataframe tbody tr th:only-of-type {\n",
       "        vertical-align: middle;\n",
       "    }\n",
       "\n",
       "    .dataframe tbody tr th {\n",
       "        vertical-align: top;\n",
       "    }\n",
       "\n",
       "    .dataframe thead th {\n",
       "        text-align: right;\n",
       "    }\n",
       "</style>\n",
       "<table border=\"1\" class=\"dataframe\">\n",
       "  <thead>\n",
       "    <tr style=\"text-align: right;\">\n",
       "      <th></th>\n",
       "      <th>doc_body</th>\n",
       "      <th>doc_description</th>\n",
       "      <th>doc_full_name</th>\n",
       "      <th>doc_status</th>\n",
       "      <th>article_id</th>\n",
       "    </tr>\n",
       "  </thead>\n",
       "  <tbody>\n",
       "    <tr>\n",
       "      <th>0</th>\n",
       "      <td>Skip navigation Sign in SearchLoading...\\r\\n\\r...</td>\n",
       "      <td>Detect bad readings in real time using Python ...</td>\n",
       "      <td>Detect Malfunctioning IoT Sensors with Streami...</td>\n",
       "      <td>Live</td>\n",
       "      <td>0</td>\n",
       "    </tr>\n",
       "    <tr>\n",
       "      <th>1</th>\n",
       "      <td>No Free Hunch Navigation * kaggle.com\\r\\n\\r\\n ...</td>\n",
       "      <td>See the forest, see the trees. Here lies the c...</td>\n",
       "      <td>Communicating data science: A guide to present...</td>\n",
       "      <td>Live</td>\n",
       "      <td>1</td>\n",
       "    </tr>\n",
       "    <tr>\n",
       "      <th>2</th>\n",
       "      <td>☰ * Login\\r\\n * Sign Up\\r\\n\\r\\n * Learning Pat...</td>\n",
       "      <td>Here’s this week’s news in Data Science and Bi...</td>\n",
       "      <td>This Week in Data Science (April 18, 2017)</td>\n",
       "      <td>Live</td>\n",
       "      <td>2</td>\n",
       "    </tr>\n",
       "    <tr>\n",
       "      <th>3</th>\n",
       "      <td>DATALAYER: HIGH THROUGHPUT, LOW LATENCY AT SCA...</td>\n",
       "      <td>Learn how distributed DBs solve the problem of...</td>\n",
       "      <td>DataLayer Conference: Boost the performance of...</td>\n",
       "      <td>Live</td>\n",
       "      <td>3</td>\n",
       "    </tr>\n",
       "    <tr>\n",
       "      <th>4</th>\n",
       "      <td>Skip navigation Sign in SearchLoading...\\r\\n\\r...</td>\n",
       "      <td>This video demonstrates the power of IBM DataS...</td>\n",
       "      <td>Analyze NY Restaurant data using Spark in DSX</td>\n",
       "      <td>Live</td>\n",
       "      <td>4</td>\n",
       "    </tr>\n",
       "  </tbody>\n",
       "</table>\n",
       "</div>"
      ],
      "text/plain": [
       "                                            doc_body  \\\n",
       "0  Skip navigation Sign in SearchLoading...\\r\\n\\r...   \n",
       "1  No Free Hunch Navigation * kaggle.com\\r\\n\\r\\n ...   \n",
       "2  ☰ * Login\\r\\n * Sign Up\\r\\n\\r\\n * Learning Pat...   \n",
       "3  DATALAYER: HIGH THROUGHPUT, LOW LATENCY AT SCA...   \n",
       "4  Skip navigation Sign in SearchLoading...\\r\\n\\r...   \n",
       "\n",
       "                                     doc_description  \\\n",
       "0  Detect bad readings in real time using Python ...   \n",
       "1  See the forest, see the trees. Here lies the c...   \n",
       "2  Here’s this week’s news in Data Science and Bi...   \n",
       "3  Learn how distributed DBs solve the problem of...   \n",
       "4  This video demonstrates the power of IBM DataS...   \n",
       "\n",
       "                                       doc_full_name doc_status  article_id  \n",
       "0  Detect Malfunctioning IoT Sensors with Streami...       Live           0  \n",
       "1  Communicating data science: A guide to present...       Live           1  \n",
       "2         This Week in Data Science (April 18, 2017)       Live           2  \n",
       "3  DataLayer Conference: Boost the performance of...       Live           3  \n",
       "4      Analyze NY Restaurant data using Spark in DSX       Live           4  "
      ]
     },
     "execution_count": 4,
     "metadata": {},
     "output_type": "execute_result"
    }
   ],
   "source": [
    "# Show df_content to get an idea of the data\n",
    "print(df_content.shape)\n",
    "print(*df_content.columns)\n",
    "df_content.head()"
   ]
  },
  {
   "cell_type": "markdown",
   "metadata": {},
   "source": [
    "### <a class=\"anchor\" id=\"Exploratory-Data-Analysis\">Part I : Exploratory Data Analysis</a>\n",
    "\n",
    "Use the dictionary and cells below to provide some insight into the descriptive statistics of the data.\n",
    "\n",
    "`1.` What is the distribution of how many articles a user interacts with in the dataset?  Provide a visual and descriptive statistics to assist with giving a look at the number of times each user interacts with an article.  "
   ]
  },
  {
   "cell_type": "code",
   "execution_count": 5,
   "metadata": {
    "collapsed": true
   },
   "outputs": [
    {
     "data": {
      "text/html": [
       "<div>\n",
       "<style scoped>\n",
       "    .dataframe tbody tr th:only-of-type {\n",
       "        vertical-align: middle;\n",
       "    }\n",
       "\n",
       "    .dataframe tbody tr th {\n",
       "        vertical-align: top;\n",
       "    }\n",
       "\n",
       "    .dataframe thead th {\n",
       "        text-align: right;\n",
       "    }\n",
       "</style>\n",
       "<table border=\"1\" class=\"dataframe\">\n",
       "  <thead>\n",
       "    <tr style=\"text-align: right;\">\n",
       "      <th></th>\n",
       "      <th>article_id</th>\n",
       "    </tr>\n",
       "  </thead>\n",
       "  <tbody>\n",
       "    <tr>\n",
       "      <th>count</th>\n",
       "      <td>5148.000000</td>\n",
       "    </tr>\n",
       "    <tr>\n",
       "      <th>mean</th>\n",
       "      <td>8.930847</td>\n",
       "    </tr>\n",
       "    <tr>\n",
       "      <th>std</th>\n",
       "      <td>16.802267</td>\n",
       "    </tr>\n",
       "    <tr>\n",
       "      <th>min</th>\n",
       "      <td>1.000000</td>\n",
       "    </tr>\n",
       "    <tr>\n",
       "      <th>25%</th>\n",
       "      <td>1.000000</td>\n",
       "    </tr>\n",
       "    <tr>\n",
       "      <th>50%</th>\n",
       "      <td>3.000000</td>\n",
       "    </tr>\n",
       "    <tr>\n",
       "      <th>75%</th>\n",
       "      <td>9.000000</td>\n",
       "    </tr>\n",
       "    <tr>\n",
       "      <th>max</th>\n",
       "      <td>364.000000</td>\n",
       "    </tr>\n",
       "  </tbody>\n",
       "</table>\n",
       "</div>"
      ],
      "text/plain": [
       "        article_id\n",
       "count  5148.000000\n",
       "mean      8.930847\n",
       "std      16.802267\n",
       "min       1.000000\n",
       "25%       1.000000\n",
       "50%       3.000000\n",
       "75%       9.000000\n",
       "max     364.000000"
      ]
     },
     "execution_count": 5,
     "metadata": {},
     "output_type": "execute_result"
    }
   ],
   "source": [
    "# The number of times each user interacts with an article.\n",
    "user_interacts = df[[\"email\", 'article_id']].groupby('email').count()\n",
    "user_interacts.describe()"
   ]
  },
  {
   "cell_type": "code",
   "execution_count": 6,
   "metadata": {},
   "outputs": [
    {
     "data": {
      "image/png": "[encoded data removed]",
      "text/plain": [
       "<Figure size 640x480 with 1 Axes>"
      ]
     },
     "metadata": {},
     "output_type": "display_data"
    }
   ],
   "source": [
    "# The distribution of how many articles a user interacts.\n",
    "user_interacts.hist(bins=100)\n",
    "plt.title('distribution of user interacts with an article')\n",
    "plt.xlabel('# interacts')\n",
    "plt.ylabel('# users')\n",
    "plt.show()"
   ]
  },
  {
   "cell_type": "code",
   "execution_count": 7,
   "metadata": {},
   "outputs": [
    {
     "name": "stdout",
     "output_type": "stream",
     "text": [
      "article_id    3.0\n",
      "dtype: float64\n",
      "article_id    364\n",
      "dtype: int64\n"
     ]
    }
   ],
   "source": [
    "print(user_interacts.median())\n",
    "print(user_interacts.max())"
   ]
  },
  {
   "cell_type": "code",
   "execution_count": 8,
   "metadata": {
    "collapsed": true
   },
   "outputs": [
    {
     "name": "stdout",
     "output_type": "stream",
     "text": [
      "50% of individuals interact with 3 articles or fewer.\n",
      "The maximum number of user-article interactions by any 1 user is 364.\n"
     ]
    }
   ],
   "source": [
    "# Fill in the median and maximum number of user_article interactios below\n",
    "\n",
    "median_val = 3 # 50% of individuals interact with ____ number of articles or fewer.\n",
    "max_views_by_user = 364 # The maximum number of user-article interactions by any 1 user is ______.\n",
    "\n",
    "print(f'50% of individuals interact with {median_val} articles or fewer.')\n",
    "print(f'The maximum number of user-article interactions by any 1 user is {max_views_by_user}.')"
   ]
  },
  {
   "cell_type": "markdown",
   "metadata": {},
   "source": [
    "`2.` Explore and remove duplicate articles from the **df_content** dataframe.  "
   ]
  },
  {
   "cell_type": "code",
   "execution_count": 9,
   "metadata": {
    "collapsed": true
   },
   "outputs": [
    {
     "name": "stdout",
     "output_type": "stream",
     "text": [
      "5 duplicate articles\n"
     ]
    }
   ],
   "source": [
    "# Find and explore duplicate articles\n",
    "duplicated_articles = (\n",
    "    df_content[df_content.duplicated(subset=\"article_id\")].sum().count()\n",
    ")\n",
    "print(f\"{duplicated_articles} duplicate articles\")\n"
   ]
  },
  {
   "cell_type": "code",
   "execution_count": 10,
   "metadata": {
    "collapsed": true
   },
   "outputs": [
    {
     "data": {
      "text/plain": [
       "(1051, 5)"
      ]
     },
     "execution_count": 10,
     "metadata": {},
     "output_type": "execute_result"
    }
   ],
   "source": [
    "# Remove any rows that have the same article_id - only keep the first\n",
    "df_content = df_content.drop_duplicates(\"article_id\", keep=\"first\")\n",
    "df_content.shape"
   ]
  },
  {
   "cell_type": "markdown",
   "metadata": {},
   "source": [
    "`3.` Use the cells below to find:\n",
    "\n",
    "**a.** The number of unique articles that have an interaction with a user.  \n",
    "**b.** The number of unique articles in the dataset (whether they have any interactions or not).<br>\n",
    "**c.** The number of unique users in the dataset. (excluding null values) <br>\n",
    "**d.** The number of user-article interactions in the dataset."
   ]
  },
  {
   "cell_type": "code",
   "execution_count": 11,
   "metadata": {},
   "outputs": [
    {
     "data": {
      "text/plain": [
       "714"
      ]
     },
     "execution_count": 11,
     "metadata": {},
     "output_type": "execute_result"
    }
   ],
   "source": [
    "# The number of unique articles that have an interaction with a user. \n",
    "df['article_id'].nunique()"
   ]
  },
  {
   "cell_type": "code",
   "execution_count": 12,
   "metadata": {},
   "outputs": [
    {
     "data": {
      "text/plain": [
       "1051"
      ]
     },
     "execution_count": 12,
     "metadata": {},
     "output_type": "execute_result"
    }
   ],
   "source": [
    "# The number of unique articles in the dataset (whether they have any interactions or not).\n",
    "len(df_content['article_id'])"
   ]
  },
  {
   "cell_type": "code",
   "execution_count": 13,
   "metadata": {
    "collapsed": true
   },
   "outputs": [
    {
     "data": {
      "text/plain": [
       "5148"
      ]
     },
     "execution_count": 13,
     "metadata": {},
     "output_type": "execute_result"
    }
   ],
   "source": [
    "# The number of unique users in the dataset. (excluding null values)\n",
    "df['email'].nunique()"
   ]
  },
  {
   "cell_type": "code",
   "execution_count": 14,
   "metadata": {},
   "outputs": [
    {
     "data": {
      "text/plain": [
       "45993"
      ]
     },
     "execution_count": 14,
     "metadata": {},
     "output_type": "execute_result"
    }
   ],
   "source": [
    "# The number of user-article interactions in the dataset.\n",
    "df.shape[0]"
   ]
  },
  {
   "cell_type": "code",
   "execution_count": 15,
   "metadata": {
    "collapsed": true
   },
   "outputs": [
    {
     "name": "stdout",
     "output_type": "stream",
     "text": [
      "714 is the number of unique articles that have at least one interaction.\n",
      "1051 is the number of unique articles on the IBM platform.\n",
      "5148 is the number of unique users.\n",
      "45993 is the number of user-article interactions.\n"
     ]
    }
   ],
   "source": [
    "unique_articles = 714 # The number of unique articles that have at least one interaction\n",
    "total_articles = 1051 # The number of unique articles on the IBM platform\n",
    "unique_users = 5148 # The number of unique users\n",
    "user_article_interactions = 45993 # The number of user-article interactions\n",
    "\n",
    "print(f'{unique_articles} is the number of unique articles that have at least one interaction.')\n",
    "print(f'{total_articles} is the number of unique articles on the IBM platform.')\n",
    "print(f'{unique_users} is the number of unique users.')\n",
    "print(f'{user_article_interactions} is the number of user-article interactions.')"
   ]
  },
  {
   "cell_type": "markdown",
   "metadata": {},
   "source": [
    "`4.` Use the cells below to find the most viewed **article_id**, as well as how often it was viewed.  After talking to the company leaders, the `email_mapper` function was deemed a reasonable way to map users to ids.  There were a small number of null values, and it was found that all of these null values likely belonged to a single user (which is how they are stored using the function below)."
   ]
  },
  {
   "cell_type": "code",
   "execution_count": 16,
   "metadata": {
    "collapsed": true
   },
   "outputs": [
    {
     "data": {
      "text/html": [
       "<div>\n",
       "<style scoped>\n",
       "    .dataframe tbody tr th:only-of-type {\n",
       "        vertical-align: middle;\n",
       "    }\n",
       "\n",
       "    .dataframe tbody tr th {\n",
       "        vertical-align: top;\n",
       "    }\n",
       "\n",
       "    .dataframe thead th {\n",
       "        text-align: right;\n",
       "    }\n",
       "</style>\n",
       "<table border=\"1\" class=\"dataframe\">\n",
       "  <thead>\n",
       "    <tr style=\"text-align: right;\">\n",
       "      <th></th>\n",
       "      <th>email</th>\n",
       "    </tr>\n",
       "    <tr>\n",
       "      <th>article_id</th>\n",
       "      <th></th>\n",
       "    </tr>\n",
       "  </thead>\n",
       "  <tbody>\n",
       "    <tr>\n",
       "      <th>1429.0</th>\n",
       "      <td>937</td>\n",
       "    </tr>\n",
       "    <tr>\n",
       "      <th>1330.0</th>\n",
       "      <td>927</td>\n",
       "    </tr>\n",
       "    <tr>\n",
       "      <th>1431.0</th>\n",
       "      <td>671</td>\n",
       "    </tr>\n",
       "    <tr>\n",
       "      <th>1427.0</th>\n",
       "      <td>643</td>\n",
       "    </tr>\n",
       "    <tr>\n",
       "      <th>1364.0</th>\n",
       "      <td>627</td>\n",
       "    </tr>\n",
       "  </tbody>\n",
       "</table>\n",
       "</div>"
      ],
      "text/plain": [
       "            email\n",
       "article_id       \n",
       "1429.0        937\n",
       "1330.0        927\n",
       "1431.0        671\n",
       "1427.0        643\n",
       "1364.0        627"
      ]
     },
     "execution_count": 16,
     "metadata": {},
     "output_type": "execute_result"
    }
   ],
   "source": [
    "df[[\"email\", \"article_id\"]].groupby(\"article_id\").count().sort_values(\n",
    "    ascending=False, by=\"email\"\n",
    ").head(5)\n"
   ]
  },
  {
   "cell_type": "code",
   "execution_count": 17,
   "metadata": {
    "collapsed": true
   },
   "outputs": [
    {
     "name": "stdout",
     "output_type": "stream",
     "text": [
      "The most viewed article in the dataset was the article_id 1429.0\n",
      "The most viewed article in the dataset was viewed 937 times.\n"
     ]
    }
   ],
   "source": [
    "most_viewed_article_id = '1429.0' # The most viewed article in the dataset as a string with one value following the decimal \n",
    "max_views = 937 # The most viewed article in the dataset was viewed how many times?\n",
    "\n",
    "print(f'The most viewed article in the dataset was the article_id {most_viewed_article_id}')\n",
    "print(f'The most viewed article in the dataset was viewed {max_views} times.')"
   ]
  },
  {
   "cell_type": "code",
   "execution_count": 18,
   "metadata": {
    "collapsed": true
   },
   "outputs": [
    {
     "data": {
      "text/html": [
       "<div>\n",
       "<style scoped>\n",
       "    .dataframe tbody tr th:only-of-type {\n",
       "        vertical-align: middle;\n",
       "    }\n",
       "\n",
       "    .dataframe tbody tr th {\n",
       "        vertical-align: top;\n",
       "    }\n",
       "\n",
       "    .dataframe thead th {\n",
       "        text-align: right;\n",
       "    }\n",
       "</style>\n",
       "<table border=\"1\" class=\"dataframe\">\n",
       "  <thead>\n",
       "    <tr style=\"text-align: right;\">\n",
       "      <th></th>\n",
       "      <th>article_id</th>\n",
       "      <th>title</th>\n",
       "      <th>user_id</th>\n",
       "    </tr>\n",
       "  </thead>\n",
       "  <tbody>\n",
       "    <tr>\n",
       "      <th>0</th>\n",
       "      <td>1430.0</td>\n",
       "      <td>using pixiedust for fast, flexible, and easier...</td>\n",
       "      <td>1</td>\n",
       "    </tr>\n",
       "    <tr>\n",
       "      <th>1</th>\n",
       "      <td>1314.0</td>\n",
       "      <td>healthcare python streaming application demo</td>\n",
       "      <td>2</td>\n",
       "    </tr>\n",
       "    <tr>\n",
       "      <th>2</th>\n",
       "      <td>1429.0</td>\n",
       "      <td>use deep learning for image classification</td>\n",
       "      <td>3</td>\n",
       "    </tr>\n",
       "    <tr>\n",
       "      <th>3</th>\n",
       "      <td>1338.0</td>\n",
       "      <td>ml optimization using cognitive assistant</td>\n",
       "      <td>4</td>\n",
       "    </tr>\n",
       "    <tr>\n",
       "      <th>4</th>\n",
       "      <td>1276.0</td>\n",
       "      <td>deploy your python model as a restful api</td>\n",
       "      <td>5</td>\n",
       "    </tr>\n",
       "  </tbody>\n",
       "</table>\n",
       "</div>"
      ],
      "text/plain": [
       "   article_id                                              title  user_id\n",
       "0      1430.0  using pixiedust for fast, flexible, and easier...        1\n",
       "1      1314.0       healthcare python streaming application demo        2\n",
       "2      1429.0         use deep learning for image classification        3\n",
       "3      1338.0          ml optimization using cognitive assistant        4\n",
       "4      1276.0          deploy your python model as a restful api        5"
      ]
     },
     "execution_count": 18,
     "metadata": {},
     "output_type": "execute_result"
    }
   ],
   "source": [
    "## No need to change the code here - this will be helpful for later parts of the notebook\n",
    "# Run this cell to map the user email to a user_id column and remove the email column\n",
    "\n",
    "def email_mapper():\n",
    "    coded_dict = dict()\n",
    "    cter = 1\n",
    "    email_encoded = []\n",
    "    \n",
    "    for val in df['email']:\n",
    "        if val not in coded_dict:\n",
    "            coded_dict[val] = cter\n",
    "            cter+=1\n",
    "        \n",
    "        email_encoded.append(coded_dict[val])\n",
    "    return email_encoded\n",
    "\n",
    "email_encoded = email_mapper()\n",
    "del df['email']\n",
    "df['user_id'] = email_encoded\n",
    "\n",
    "# show header\n",
    "df.head()"
   ]
  },
  {
   "cell_type": "code",
   "execution_count": 19,
   "metadata": {
    "collapsed": true
   },
   "outputs": [
    {
     "name": "stdout",
     "output_type": "stream",
     "text": [
      "It looks like you have everything right here! Nice job!\n"
     ]
    }
   ],
   "source": [
    "## If you stored all your results in the variable names above, \n",
    "## you shouldn't need to change anything in this cell\n",
    "\n",
    "sol_1_dict = {\n",
    "    '`50% of individuals have _____ or fewer interactions.`': median_val,\n",
    "    '`The total number of user-article interactions in the dataset is ______.`': user_article_interactions,\n",
    "    '`The maximum number of user-article interactions by any 1 user is ______.`': max_views_by_user,\n",
    "    '`The most viewed article in the dataset was viewed _____ times.`': max_views,\n",
    "    '`The article_id of the most viewed article is ______.`': most_viewed_article_id,\n",
    "    '`The number of unique articles that have at least 1 rating ______.`': unique_articles,\n",
    "    '`The number of unique users in the dataset is ______`': unique_users,\n",
    "    '`The number of unique articles on the IBM platform`': total_articles\n",
    "}\n",
    "\n",
    "# Test your dictionary against the solution\n",
    "t.sol_1_test(sol_1_dict)"
   ]
  },
  {
   "cell_type": "markdown",
   "metadata": {},
   "source": [
    "### <a class=\"anchor\" id=\"Rank\">Part II: Rank-Based Recommendations</a>\n",
    "\n",
    "Unlike in the earlier lessons, we don't actually have ratings for whether a user liked an article or not.  We only know that a user has interacted with an article.  In these cases, the popularity of an article can really only be based on how often an article was interacted with.\n",
    "\n",
    "`1.` Fill in the function below to return the **n** top articles ordered with most interactions as the top. Test your function using the tests below."
   ]
  },
  {
   "cell_type": "code",
   "execution_count": 20,
   "metadata": {},
   "outputs": [
    {
     "data": {
      "text/html": [
       "<div>\n",
       "<style scoped>\n",
       "    .dataframe tbody tr th:only-of-type {\n",
       "        vertical-align: middle;\n",
       "    }\n",
       "\n",
       "    .dataframe tbody tr th {\n",
       "        vertical-align: top;\n",
       "    }\n",
       "\n",
       "    .dataframe thead th {\n",
       "        text-align: right;\n",
       "    }\n",
       "</style>\n",
       "<table border=\"1\" class=\"dataframe\">\n",
       "  <thead>\n",
       "    <tr style=\"text-align: right;\">\n",
       "      <th></th>\n",
       "      <th>user_id</th>\n",
       "    </tr>\n",
       "    <tr>\n",
       "      <th>title</th>\n",
       "      <th></th>\n",
       "    </tr>\n",
       "  </thead>\n",
       "  <tbody>\n",
       "    <tr>\n",
       "      <th>use deep learning for image classification</th>\n",
       "      <td>937</td>\n",
       "    </tr>\n",
       "    <tr>\n",
       "      <th>insights from new york car accident reports</th>\n",
       "      <td>927</td>\n",
       "    </tr>\n",
       "    <tr>\n",
       "      <th>visualize car data with brunel</th>\n",
       "      <td>671</td>\n",
       "    </tr>\n",
       "    <tr>\n",
       "      <th>use xgboost, scikit-learn &amp; ibm watson machine learning apis</th>\n",
       "      <td>643</td>\n",
       "    </tr>\n",
       "    <tr>\n",
       "      <th>predicting churn with the spss random tree algorithm</th>\n",
       "      <td>627</td>\n",
       "    </tr>\n",
       "  </tbody>\n",
       "</table>\n",
       "</div>"
      ],
      "text/plain": [
       "                                                    user_id\n",
       "title                                                      \n",
       "use deep learning for image classification              937\n",
       "insights from new york car accident reports             927\n",
       "visualize car data with brunel                          671\n",
       "use xgboost, scikit-learn & ibm watson machine ...      643\n",
       "predicting churn with the spss random tree algo...      627"
      ]
     },
     "execution_count": 20,
     "metadata": {},
     "output_type": "execute_result"
    }
   ],
   "source": [
    "df[[\"user_id\", \"title\"]].groupby(\"title\").count().sort_values(\n",
    "    ascending=False, by=\"user_id\"\n",
    ").head(5)\n"
   ]
  },
  {
   "cell_type": "code",
   "execution_count": 21,
   "metadata": {},
   "outputs": [
    {
     "data": {
      "text/html": [
       "<div>\n",
       "<style scoped>\n",
       "    .dataframe tbody tr th:only-of-type {\n",
       "        vertical-align: middle;\n",
       "    }\n",
       "\n",
       "    .dataframe tbody tr th {\n",
       "        vertical-align: top;\n",
       "    }\n",
       "\n",
       "    .dataframe thead th {\n",
       "        text-align: right;\n",
       "    }\n",
       "</style>\n",
       "<table border=\"1\" class=\"dataframe\">\n",
       "  <thead>\n",
       "    <tr style=\"text-align: right;\">\n",
       "      <th></th>\n",
       "      <th>user_id</th>\n",
       "    </tr>\n",
       "    <tr>\n",
       "      <th>article_id</th>\n",
       "      <th></th>\n",
       "    </tr>\n",
       "  </thead>\n",
       "  <tbody>\n",
       "    <tr>\n",
       "      <th>1429.0</th>\n",
       "      <td>937</td>\n",
       "    </tr>\n",
       "    <tr>\n",
       "      <th>1330.0</th>\n",
       "      <td>927</td>\n",
       "    </tr>\n",
       "    <tr>\n",
       "      <th>1431.0</th>\n",
       "      <td>671</td>\n",
       "    </tr>\n",
       "    <tr>\n",
       "      <th>1427.0</th>\n",
       "      <td>643</td>\n",
       "    </tr>\n",
       "    <tr>\n",
       "      <th>1364.0</th>\n",
       "      <td>627</td>\n",
       "    </tr>\n",
       "  </tbody>\n",
       "</table>\n",
       "</div>"
      ],
      "text/plain": [
       "            user_id\n",
       "article_id         \n",
       "1429.0          937\n",
       "1330.0          927\n",
       "1431.0          671\n",
       "1427.0          643\n",
       "1364.0          627"
      ]
     },
     "execution_count": 21,
     "metadata": {},
     "output_type": "execute_result"
    }
   ],
   "source": [
    "df[[\"user_id\", \"article_id\"]].groupby(\"article_id\").count().sort_values(\n",
    "    ascending=False, by=\"user_id\"\n",
    ").head(5)\n"
   ]
  },
  {
   "cell_type": "code",
   "execution_count": 22,
   "metadata": {
    "collapsed": true
   },
   "outputs": [],
   "source": [
    "def get_top_articles(n, df=df):\n",
    "    \"\"\"\n",
    "    INPUT:\n",
    "    n - (int) the number of top articles to return\n",
    "    df - (pandas dataframe) df as defined at the top of the notebook\n",
    "\n",
    "    OUTPUT:\n",
    "    top_articles - (list) A list of the top 'n' article titles\n",
    "\n",
    "    \"\"\"\n",
    "    # Your code here\n",
    "    top_articles = (\n",
    "        df.groupby(\"title\")[\"user_id\"]\n",
    "        .count()\n",
    "        .sort_values(ascending=False)\n",
    "        .head(n)\n",
    "        .index.to_list()\n",
    "    )\n",
    "\n",
    "    return (\n",
    "        top_articles  # Return the top article titles from df (not df_content)\n",
    "    )\n",
    "\n",
    "\n",
    "def get_top_article_ids(n, df=df):\n",
    "    \"\"\"\n",
    "    INPUT:\n",
    "    n - (int) the number of top articles to return\n",
    "    df - (pandas dataframe) df as defined at the top of the notebook\n",
    "\n",
    "    OUTPUT:\n",
    "    top_articles - (list) A list of the top 'n' article titles\n",
    "\n",
    "    \"\"\"\n",
    "    # Your code here\n",
    "    top_articles = (\n",
    "        df.groupby(\"article_id\")[\"user_id\"]\n",
    "        .count()\n",
    "        .sort_values(ascending=False)\n",
    "        .head(n)\n",
    "        .index.to_list()\n",
    "    )\n",
    "\n",
    "    # Return the top article ids\n",
    "    return top_articles  \n"
   ]
  },
  {
   "cell_type": "code",
   "execution_count": 23,
   "metadata": {
    "collapsed": true
   },
   "outputs": [
    {
     "name": "stdout",
     "output_type": "stream",
     "text": [
      "['use deep learning for image classification', 'insights from new york car accident reports', 'visualize car data with brunel', 'use xgboost, scikit-learn & ibm watson machine learning apis', 'predicting churn with the spss random tree algorithm', 'healthcare python streaming application demo', 'finding optimal locations of new store using decision optimization', 'apache spark lab, part 1: basic concepts', 'analyze energy consumption in buildings', 'gosales transactions for logistic regression model']\n",
      "[1429.0, 1330.0, 1431.0, 1427.0, 1364.0, 1314.0, 1293.0, 1170.0, 1162.0, 1304.0]\n"
     ]
    }
   ],
   "source": [
    "print(get_top_articles(10))\n",
    "print(get_top_article_ids(10))"
   ]
  },
  {
   "cell_type": "code",
   "execution_count": 24,
   "metadata": {
    "collapsed": true
   },
   "outputs": [
    {
     "name": "stdout",
     "output_type": "stream",
     "text": [
      "Your top_5 looks like the solution list! Nice job.\n",
      "Your top_10 looks like the solution list! Nice job.\n",
      "Your top_20 looks like the solution list! Nice job.\n"
     ]
    }
   ],
   "source": [
    "# Test your function by returning the top 5, 10, and 20 articles\n",
    "top_5 = get_top_articles(5)\n",
    "top_10 = get_top_articles(10)\n",
    "top_20 = get_top_articles(20)\n",
    "\n",
    "# Test each of your three lists from above\n",
    "t.sol_2_test(get_top_articles)"
   ]
  },
  {
   "cell_type": "markdown",
   "metadata": {},
   "source": [
    "### <a class=\"anchor\" id=\"User-User\">Part III: User-User Based Collaborative Filtering</a>\n",
    "\n",
    "\n",
    "`1.` Use the function below to reformat the **df** dataframe to be shaped with users as the rows and articles as the columns.  \n",
    "\n",
    "* Each **user** should only appear in each **row** once.\n",
    "\n",
    "\n",
    "* Each **article** should only show up in one **column**.  \n",
    "\n",
    "\n",
    "* **If a user has interacted with an article, then place a 1 where the user-row meets for that article-column**.  It does not matter how many times a user has interacted with the article, all entries where a user has interacted with an article should be a 1.  \n",
    "\n",
    "\n",
    "* **If a user has not interacted with an item, then place a zero where the user-row meets for that article-column**. \n",
    "\n",
    "Use the tests to make sure the basic structure of your matrix matches what is expected by the solution."
   ]
  },
  {
   "cell_type": "code",
   "execution_count": 25,
   "metadata": {
    "collapsed": true
   },
   "outputs": [],
   "source": [
    "# create the user-article matrix with 1's and 0's\n",
    "\n",
    "def create_user_item_matrix(df):\n",
    "    '''\n",
    "    INPUT:\n",
    "    df - pandas dataframe with article_id, title, user_id columns\n",
    "    \n",
    "    OUTPUT:\n",
    "    user_item - user item matrix \n",
    "    \n",
    "    Description:\n",
    "    Return a matrix with user ids as rows and article ids on the columns with 1\n",
    "    values where a user interacted with an article and a 0 otherwise\n",
    "    '''\n",
    "    # Fill in the function here\n",
    "    user_item = pd.crosstab(df['user_id'], df['article_id'])\n",
    "    user_item[user_item > 0] = 1\n",
    "    \n",
    "    # return the user_item matrix \n",
    "    return user_item \n",
    "\n",
    "user_item = create_user_item_matrix(df)"
   ]
  },
  {
   "cell_type": "code",
   "execution_count": 26,
   "metadata": {
    "collapsed": true
   },
   "outputs": [
    {
     "name": "stdout",
     "output_type": "stream",
     "text": [
      "You have passed our quick tests!  Please proceed!\n"
     ]
    }
   ],
   "source": [
    "## Tests: You should just need to run this cell.  Don't change the code.\n",
    "assert user_item.shape[0] == 5149, \"Oops!  The number of users in the user-article matrix doesn't look right.\"\n",
    "assert user_item.shape[1] == 714, \"Oops!  The number of articles in the user-article matrix doesn't look right.\"\n",
    "assert user_item.sum(axis=1)[1] == 36, \"Oops!  The number of articles seen by user 1 doesn't look right.\"\n",
    "print(\"You have passed our quick tests!  Please proceed!\")"
   ]
  },
  {
   "cell_type": "markdown",
   "metadata": {},
   "source": [
    "`2.` Complete the function below which should take a user_id and provide an ordered list of the most similar users to that user (from most similar to least similar).  The returned result should not contain the provided user_id, as we know that each user is similar to him/herself. Because the results for each user here are binary, it (perhaps) makes sense to compute similarity as the dot product of two users. \n",
    "\n",
    "Use the tests to test your function."
   ]
  },
  {
   "cell_type": "code",
   "execution_count": 27,
   "metadata": {
    "collapsed": true
   },
   "outputs": [],
   "source": [
    "def find_similar_users(user_id, user_item=user_item):\n",
    "    \"\"\"\n",
    "    INPUT:\n",
    "    user_id - (int) a user_id\n",
    "    user_item - (pandas dataframe) matrix of users by articles:\n",
    "                1's when a user has interacted with an article, 0 otherwise\n",
    "\n",
    "    OUTPUT:\n",
    "    similar_users - (list) an ordered list where the closest users (largest dot\n",
    "    product users) are listed first\n",
    "\n",
    "    Description:\n",
    "    Computes the similarity of every pair of users based on the dot product\n",
    "    Returns an ordered\n",
    "\n",
    "    \"\"\"\n",
    "    # Get user_ids\n",
    "    user_ids = user_item.index\n",
    "\n",
    "    # compute similarity of each user to the provided user\n",
    "    dot_product_matrix = np.dot(user_item.values, user_item.values.T)\n",
    "\n",
    "    # Convert to DataFrame for better interpretation\n",
    "    dot_product_df = pd.DataFrame(\n",
    "        dot_product_matrix, index=user_ids, columns=user_ids\n",
    "    )\n",
    "\n",
    "    # Get the similarity scores for the provided user\n",
    "    user_similarity_scores = dot_product_df[user_id].copy()\n",
    "\n",
    "    # Remove the provided user from the list (set similarity with itself to -1 or NaN)\n",
    "    user_similarity_scores.loc[user_id] = -1\n",
    "\n",
    "    # Sort the users by similarity score in descending order\n",
    "    sorted_users = user_similarity_scores.sort_values(ascending=False)\n",
    "\n",
    "    # Get the list of user IDs ordered from most similar to least similar\n",
    "    most_similar_users = sorted_users.index.tolist()\n",
    "\n",
    "    # return a list of the users in order from most to least similar\n",
    "    return most_similar_users  \n"
   ]
  },
  {
   "cell_type": "code",
   "execution_count": 28,
   "metadata": {
    "collapsed": true
   },
   "outputs": [
    {
     "name": "stdout",
     "output_type": "stream",
     "text": [
      "The 10 most similar users to user 1 are: [3933, 3782, 23, 203, 4459, 131, 3870, 46, 4201, 5041]\n",
      "The 5 most similar users to user 3933 are: [1, 23, 3782, 4459, 203]\n",
      "The 3 most similar users to user 46 are: [4201, 23, 3782]\n"
     ]
    }
   ],
   "source": [
    "# Do a spot check of your function\n",
    "print(\"The 10 most similar users to user 1 are: {}\".format(find_similar_users(1)[:10]))\n",
    "print(\"The 5 most similar users to user 3933 are: {}\".format(find_similar_users(3933)[:5]))\n",
    "print(\"The 3 most similar users to user 46 are: {}\".format(find_similar_users(46)[:3]))"
   ]
  },
  {
   "cell_type": "markdown",
   "metadata": {},
   "source": [
    "`3.` Now that you have a function that provides the most similar users to each user, you will want to use these users to find articles you can recommend.  Complete the functions below to return the articles you would recommend to each user. "
   ]
  },
  {
   "cell_type": "code",
   "execution_count": 29,
   "metadata": {
    "collapsed": true
   },
   "outputs": [],
   "source": [
    "def get_article_names(article_ids, df=df):\n",
    "    \"\"\"\n",
    "    INPUT:\n",
    "    article_ids - (list) a list of article ids\n",
    "    df - (pandas dataframe) df as defined at the top of the notebook\n",
    "\n",
    "    OUTPUT:\n",
    "    article_names - (list) a list of article names associated with the list of\n",
    "                    article ids (this is identified by the title column)\n",
    "    \"\"\"\n",
    "    # Your code here\n",
    "    article_names = [\n",
    "        df[df[\"article_id\"] == float(id)][\"title\"].values[0]\n",
    "        for id in article_ids\n",
    "    ]\n",
    "\n",
    "    return article_names  # Return the article names associated with list of article ids\n",
    "\n",
    "\n",
    "def get_user_articles(user_id, user_item=user_item):\n",
    "    \"\"\"\n",
    "    INPUT:\n",
    "    user_id - (int) a user id\n",
    "    user_item - (pandas dataframe) matrix of users by articles:\n",
    "                1's when a user has interacted with an article, 0 otherwise\n",
    "\n",
    "    OUTPUT:\n",
    "    article_ids - (list) a list of the article ids seen by the user\n",
    "    article_names - (list) a list of article names associated with the list of article ids\n",
    "                    (this is identified by the doc_full_name column in df_content)\n",
    "\n",
    "    Description:\n",
    "    Provides a list of the article_ids and article titles that have been seen by a user\n",
    "    \"\"\"\n",
    "    # Your code here\n",
    "    article_ids = user_item.loc[user_id]\n",
    "    article_ids = [str(aid) for aid in article_ids[article_ids == 1].index]\n",
    "\n",
    "    article_names = get_article_names(article_ids)\n",
    "\n",
    "    return article_ids, article_names  # return the ids and names\n",
    "\n",
    "\n",
    "def user_user_recs(user_id, m=10):\n",
    "    \"\"\"\n",
    "    INPUT:\n",
    "    user_id - (int) a user id\n",
    "    m - (int) the number of recommendations you want for the user\n",
    "\n",
    "    OUTPUT:\n",
    "    recs - (list) a list of recommendations for the user\n",
    "\n",
    "    Description:\n",
    "    Loops through the users based on closeness to the input user_id\n",
    "    For each user - finds articles the user hasn't seen before and provides them\n",
    "    as recs\n",
    "    Does this until m recommendations are found\n",
    "\n",
    "    Notes:\n",
    "    Users who are the same closeness are chosen arbitrarily as the 'next' user\n",
    "\n",
    "    For the user where the number of recommended articles starts below m\n",
    "    and ends exceeding m, the last items are chosen arbitrarily\n",
    "\n",
    "    \"\"\"\n",
    "    # Your code here\n",
    "    user_ids = find_similar_users(user_id)\n",
    "\n",
    "    recs = df[df[\"user_id\"].isin(user_ids)][\"article_id\"]\n",
    "\n",
    "    recs = list(set(recs))\n",
    "    recs = recs[:m]\n",
    "\n",
    "    # return your recommendations for this user_id\n",
    "    return recs\n"
   ]
  },
  {
   "cell_type": "code",
   "execution_count": 30,
   "metadata": {
    "collapsed": true
   },
   "outputs": [
    {
     "data": {
      "text/plain": [
       "['detect malfunctioning iot sensors with streaming analytics',\n",
       " 'this week in data science (april 18, 2017)',\n",
       " 'analyze ny restaurant data using spark in dsx',\n",
       " 'data science bowl 2017',\n",
       " '3992    using apache spark to predict attack vectors a...\\nName: title, dtype: object',\n",
       " 'timeseries data analysis of iot events by using jupyter notebook',\n",
       " 'got zip code data? prep it for analytics. – ibm watson data lab – medium',\n",
       " 'apache spark™ 2.0: extend structured streaming for spark ml',\n",
       " 'higher-order logistic regression for large datasets',\n",
       " 'the greatest public datasets for ai – startup grind']"
      ]
     },
     "execution_count": 30,
     "metadata": {},
     "output_type": "execute_result"
    }
   ],
   "source": [
    "# Check Results\n",
    "get_article_names(user_user_recs(1, 10)) # Return 10 recommendations for user 1"
   ]
  },
  {
   "cell_type": "code",
   "execution_count": 31,
   "metadata": {
    "collapsed": true
   },
   "outputs": [
    {
     "name": "stdout",
     "output_type": "stream",
     "text": [
      "If this is all you see, you passed all of our tests!  Nice job!\n"
     ]
    }
   ],
   "source": [
    "# Test your functions here - No need to change this code - just run this cell\n",
    "assert set(get_article_names(['1024.0', '1176.0', '1305.0', '1314.0', '1422.0', '1427.0'])) == set(['using deep learning to reconstruct high-resolution audio', 'build a python app on the streaming analytics service', 'gosales transactions for naive bayes model', 'healthcare python streaming application demo', 'use r dataframes & ibm watson natural language understanding', 'use xgboost, scikit-learn & ibm watson machine learning apis']), \"Oops! Your the get_article_names function doesn't work quite how we expect.\"\n",
    "assert set(get_article_names(['1320.0', '232.0', '844.0'])) == set(['housing (2015): united states demographic measures','self-service data preparation with ibm data refinery','use the cloudant-spark connector in python notebook']), \"Oops! Your the get_article_names function doesn't work quite how we expect.\"\n",
    "assert set(get_user_articles(20)[0]) == set(['1320.0', '232.0', '844.0'])\n",
    "assert set(get_user_articles(20)[1]) == set(['housing (2015): united states demographic measures', 'self-service data preparation with ibm data refinery','use the cloudant-spark connector in python notebook'])\n",
    "assert set(get_user_articles(2)[0]) == set(['1024.0', '1176.0', '1305.0', '1314.0', '1422.0', '1427.0'])\n",
    "assert set(get_user_articles(2)[1]) == set(['using deep learning to reconstruct high-resolution audio', 'build a python app on the streaming analytics service', 'gosales transactions for naive bayes model', 'healthcare python streaming application demo', 'use r dataframes & ibm watson natural language understanding', 'use xgboost, scikit-learn & ibm watson machine learning apis'])\n",
    "print(\"If this is all you see, you passed all of our tests!  Nice job!\")"
   ]
  },
  {
   "cell_type": "markdown",
   "metadata": {},
   "source": [
    "`4.` Now we are going to improve the consistency of the **user_user_recs** function from above.  \n",
    "\n",
    "* Instead of arbitrarily choosing when we obtain users who are all the same closeness to a given user - choose the users that have the most total article interactions before choosing those with fewer article interactions.\n",
    "\n",
    "\n",
    "* Instead of arbitrarily choosing articles from the user where the number of recommended articles starts below m and ends exceeding m, choose articles with the articles with the most total interactions before choosing those with fewer total interactions. This ranking should be  what would be obtained from the **top_articles** function you wrote earlier."
   ]
  },
  {
   "cell_type": "code",
   "execution_count": 32,
   "metadata": {
    "collapsed": true
   },
   "outputs": [],
   "source": [
    "def get_top_sorted_users(user_id, df=df, user_item=user_item):\n",
    "    \"\"\"\n",
    "    INPUT:\n",
    "    user_id - (int)\n",
    "    df - (pandas dataframe) df as defined at the top of the notebook\n",
    "    user_item - (pandas dataframe) matrix of users by articles:\n",
    "            1's when a user has interacted with an article, 0 otherwise\n",
    "\n",
    "\n",
    "    OUTPUT:\n",
    "    neighbors_df - (pandas dataframe) a dataframe with:\n",
    "                    neighbor_id - is a neighbor user_id\n",
    "                    similarity - measure of the similarity of each user to the provided user_id\n",
    "                    num_interactions - the number of articles viewed by the user - if a u\n",
    "\n",
    "    Other Details - sort the neighbors_df by the similarity and then by number of interactions where\n",
    "                    highest of each is higher in the dataframe\n",
    "\n",
    "    \"\"\"\n",
    "    # Your code here\n",
    "    neighbors_df = pd.DataFrame(\n",
    "        columns=[\"neighbor_id\", \"similarity\", \"num_interactions\"]\n",
    "    )\n",
    "\n",
    "    for user in user_item.index:\n",
    "        if user == user_id:\n",
    "            continue\n",
    "        neighbors_df.loc[user] = [\n",
    "            user,\n",
    "            np.dot(user_item.loc[user_id, :], user_item.loc[user, :]),\n",
    "            df[df[\"user_id\"] == user][\"article_id\"].count(),\n",
    "        ]\n",
    "\n",
    "    neighbors_df.sort_values(\n",
    "        by=[\"similarity\", \"num_interactions\"], ascending=False, inplace=True\n",
    "    )\n",
    "\n",
    "    # Return the dataframe specified in the doc_string\n",
    "    return neighbors_df\n",
    "\n",
    "\n",
    "def user_user_recs_part2(user_id, m=10):\n",
    "    \"\"\"\n",
    "    INPUT:\n",
    "    user_id - (int) a user id\n",
    "    m - (int) the number of recommendations you want for the user\n",
    "\n",
    "    OUTPUT:\n",
    "    recs - (list) a list of recommendations for the user by article id\n",
    "    rec_names - (list) a list of recommendations for the user by article title\n",
    "\n",
    "    Description:\n",
    "    Loops through the users based on closeness to the input user_id\n",
    "    For each user - finds articles the user hasn't seen before and provides them as recs\n",
    "    Does this until m recommendations are found\n",
    "\n",
    "    Notes:\n",
    "    * Choose the users that have the most total article interactions\n",
    "    before choosing those with fewer article interactions.\n",
    "\n",
    "    * Choose articles with the articles with the most total interactions\n",
    "    before choosing those with fewer total interactions.\n",
    "\n",
    "    \"\"\"\n",
    "    # Your code here\n",
    "    # Get the list of articles the input user has already interacted with\n",
    "    user_interactions = user_item.loc[user_id]\n",
    "    user_article_ids = user_interactions[user_interactions == 1].index.tolist()\n",
    "\n",
    "    # Step 1: Get the similarity of all users to the input user\n",
    "    neighbors_df = get_top_sorted_users(user_id, df, user_item)\n",
    "\n",
    "    # Initialize recommendations set\n",
    "    recs = set()\n",
    "\n",
    "    # Step 2: Loop through each similar user and gather their articles\n",
    "    for neighbor_id in neighbors_df[\"neighbor_id\"]:\n",
    "        if len(recs) >= m:\n",
    "            break\n",
    "\n",
    "        # Get the articles the neighbor has interacted with\n",
    "        neighbor_interactions = user_item.loc[neighbor_id]\n",
    "        neighbor_article_ids = neighbor_interactions[\n",
    "            neighbor_interactions == 1\n",
    "        ].index.tolist()\n",
    "\n",
    "        # Find the articles the neighbor has seen that the user hasn't seen\n",
    "        new_recs = set(neighbor_article_ids) - set(user_article_ids)\n",
    "\n",
    "        # Add the new recommendations to the set (this will prevent duplicates)\n",
    "        recs.update(new_recs)\n",
    "\n",
    "    # Step 3: If not enough recommendations, sort by most popular articles\n",
    "    if len(recs) < m:\n",
    "        all_articles_interactions = user_item.sum(axis=0).sort_values(\n",
    "            ascending=False\n",
    "        )\n",
    "        most_popular_articles = all_articles_interactions.index.tolist()\n",
    "\n",
    "        # Filter out articles the user has already seen\n",
    "        for article_id in most_popular_articles:\n",
    "            if article_id not in user_article_ids:\n",
    "                recs.add(article_id)\n",
    "            if len(recs) >= m:\n",
    "                break\n",
    "\n",
    "    # Convert to list and get only `m` recommendations\n",
    "    recs = list(recs)[:m]\n",
    "\n",
    "    # Step 4: Get the article titles based on article IDs\n",
    "    rec_names = df[df[\"article_id\"].isin(recs)][\"title\"].tolist()\n",
    "\n",
    "    return recs, rec_names\n"
   ]
  },
  {
   "cell_type": "code",
   "execution_count": 33,
   "metadata": {
    "collapsed": true
   },
   "outputs": [
    {
     "name": "stdout",
     "output_type": "stream",
     "text": [
      "The top 10 recommendations for user 20 are the following article ids:\n",
      "[1024.0, 12.0, 1296.0, 1304.0, 793.0, 555.0, 1324.0, 302.0, 1329.0, 1330.0]\n",
      "\n",
      "The top 10 recommendations for user 20 are the following article names:\n",
      "['timeseries data analysis of iot events by using jupyter notebook', 'ibm watson facebook posts for 2015', 'gosales transactions for logistic regression model', 'insights from new york car accident reports', 'insights from new york car accident reports', 'insights from new york car accident reports', 'insights from new york car accident reports', 'insights from new york car accident reports', 'accelerate your workflow with dsx', 'insights from new york car accident reports', 'accelerate your workflow with dsx', 'fortune 100 companies', 'ibm watson facebook posts for 2015', 'insights from new york car accident reports', 'accelerate your workflow with dsx', 'ibm watson facebook posts for 2015', 'gosales transactions for logistic regression model', 'insights from new york car accident reports', 'insights from new york car accident reports', 'insights from new york car accident reports', 'insights from new york car accident reports', 'insights from new york car accident reports', 'timeseries data analysis of iot events by using jupyter notebook', 'gosales transactions for logistic regression model', 'timeseries data analysis of iot events by using jupyter notebook', 'insights from new york car accident reports', 'fortune 100 companies', 'insights from new york car accident reports', 'timeseries data analysis of iot events by using jupyter notebook', 'insights from new york car accident reports', 'insights from new york car accident reports', 'gosales transactions for logistic regression model', 'ibm watson facebook posts for 2015', 'insights from new york car accident reports', 'insights from new york car accident reports', 'ibm watson facebook posts for 2015', 'insights from new york car accident reports', 'gosales transactions for logistic regression model', 'insights from new york car accident reports', 'insights from new york car accident reports', 'insights from new york car accident reports', 'insights from new york car accident reports', 'insights from new york car accident reports', 'insights from new york car accident reports', 'insights from new york car accident reports', 'insights from new york car accident reports', 'insights from new york car accident reports', 'insights from new york car accident reports', 'insights from new york car accident reports', 'insights from new york car accident reports', 'fortune 100 companies', 'insights from new york car accident reports', 'insights from new york car accident reports', 'insights from new york car accident reports', 'insights from new york car accident reports', 'gosales transactions for logistic regression model', 'insights from new york car accident reports', 'accelerate your workflow with dsx', 'insights from new york car accident reports', 'insights from new york car accident reports', 'gosales transactions for logistic regression model', '10 powerful features on watson data platform, no coding necessary', '10 powerful features on watson data platform, no coding necessary', '10 powerful features on watson data platform, no coding necessary', '10 powerful features on watson data platform, no coding necessary', 'gosales transactions for logistic regression model', 'insights from new york car accident reports', '10 powerful features on watson data platform, no coding necessary', 'fortune 100 companies', 'insights from new york car accident reports', 'ibm watson facebook posts for 2015', 'timeseries data analysis of iot events by using jupyter notebook', '10 powerful features on watson data platform, no coding necessary', 'insights from new york car accident reports', 'insights from new york car accident reports', 'timeseries data analysis of iot events by using jupyter notebook', '10 powerful features on watson data platform, no coding necessary', 'ibm watson facebook posts for 2015', 'gosales transactions for logistic regression model', '10 powerful features on watson data platform, no coding necessary', 'insights from new york car accident reports', '10 powerful features on watson data platform, no coding necessary', 'insights from new york car accident reports', 'gosales transactions for logistic regression model', 'ibm watson facebook posts for 2015', 'timeseries data analysis of iot events by using jupyter notebook', '10 powerful features on watson data platform, no coding necessary', '10 powerful features on watson data platform, no coding necessary', 'insights from new york car accident reports', 'gosales transactions for logistic regression model', '10 powerful features on watson data platform, no coding necessary', 'insights from new york car accident reports', 'insights from new york car accident reports', 'gosales transactions for logistic regression model', 'insights from new york car accident reports', 'insights from new york car accident reports', 'insights from new york car accident reports', 'gosales transactions for logistic regression model', 'gosales transactions for logistic regression model', 'ibm watson facebook posts for 2015', 'gosales transactions for logistic regression model', 'gosales transactions for logistic regression model', '10 powerful features on watson data platform, no coding necessary', 'ibm watson facebook posts for 2015', 'insights from new york car accident reports', 'insights from new york car accident reports', 'insights from new york car accident reports', 'insights from new york car accident reports', 'insights from new york car accident reports', 'insights from new york car accident reports', 'timeseries data analysis of iot events by using jupyter notebook', 'insights from new york car accident reports', 'insights from new york car accident reports', '10 powerful features on watson data platform, no coding necessary', 'insights from new york car accident reports', 'insights from new york car accident reports', 'ibm watson facebook posts for 2015', 'timeseries data analysis of iot events by using jupyter notebook', 'timeseries data analysis of iot events by using jupyter notebook', 'gosales transactions for logistic regression model', 'timeseries data analysis of iot events by using jupyter notebook', 'insights from new york car accident reports', '10 powerful features on watson data platform, no coding necessary', 'timeseries data analysis of iot events by using jupyter notebook', '10 powerful features on watson data platform, no coding necessary', 'insights from new york car accident reports', '10 powerful features on watson data platform, no coding necessary', 'insights from new york car accident reports', 'gosales transactions for logistic regression model', '10 powerful features on watson data platform, no coding necessary', 'insights from new york car accident reports', 'insights from new york car accident reports', 'insights from new york car accident reports', 'timeseries data analysis of iot events by using jupyter notebook', 'timeseries data analysis of iot events by using jupyter notebook', 'ibm watson facebook posts for 2015', 'insights from new york car accident reports', 'insights from new york car accident reports', 'insights from new york car accident reports', 'insights from new york car accident reports', 'insights from new york car accident reports', 'insights from new york car accident reports', 'gosales transactions for logistic regression model', 'timeseries data analysis of iot events by using jupyter notebook', 'gosales transactions for logistic regression model', 'timeseries data analysis of iot events by using jupyter notebook', 'insights from new york car accident reports', 'insights from new york car accident reports', 'accelerate your workflow with dsx', 'insights from new york car accident reports', 'insights from new york car accident reports', 'insights from new york car accident reports', 'timeseries data analysis of iot events by using jupyter notebook', 'insights from new york car accident reports', 'insights from new york car accident reports', 'ibm watson facebook posts for 2015', 'gosales transactions for logistic regression model', 'insights from new york car accident reports', 'insights from new york car accident reports', 'insights from new york car accident reports', 'ibm watson facebook posts for 2015', 'using deep learning to reconstruct high-resolution audio', 'insights from new york car accident reports', 'insights from new york car accident reports', 'ibm watson facebook posts for 2015', 'insights from new york car accident reports', 'insights from new york car accident reports', 'ibm watson facebook posts for 2015', 'gosales transactions for logistic regression model', 'insights from new york car accident reports', 'insights from new york car accident reports', 'gosales transactions for logistic regression model', 'gosales transactions for logistic regression model', 'timeseries data analysis of iot events by using jupyter notebook', 'timeseries data analysis of iot events by using jupyter notebook', 'ibm watson facebook posts for 2015', 'gosales transactions for logistic regression model', 'insights from new york car accident reports', 'insights from new york car accident reports', 'ibm watson facebook posts for 2015', 'using deep learning to reconstruct high-resolution audio', 'insights from new york car accident reports', 'fortune 100 companies', 'insights from new york car accident reports', 'gosales transactions for logistic regression model', 'insights from new york car accident reports', 'ibm watson facebook posts for 2015', 'insights from new york car accident reports', 'insights from new york car accident reports', 'insights from new york car accident reports', 'insights from new york car accident reports', 'fortune 100 companies', 'gosales transactions for logistic regression model', 'insights from new york car accident reports', 'insights from new york car accident reports', 'gosales transactions for logistic regression model', 'insights from new york car accident reports', 'insights from new york car accident reports', 'insights from new york car accident reports', 'fortune 100 companies', 'fortune 100 companies', 'ibm watson facebook posts for 2015', 'insights from new york car accident reports', 'ibm watson facebook posts for 2015', 'timeseries data analysis of iot events by using jupyter notebook', 'insights from new york car accident reports', 'fortune 100 companies', 'gosales transactions for logistic regression model', 'insights from new york car accident reports', 'fortune 100 companies', 'fortune 100 companies', 'gosales transactions for logistic regression model', 'insights from new york car accident reports', 'gosales transactions for logistic regression model', 'insights from new york car accident reports', 'gosales transactions for logistic regression model', 'insights from new york car accident reports', 'gosales transactions for logistic regression model', 'insights from new york car accident reports', 'insights from new york car accident reports', 'insights from new york car accident reports', 'insights from new york car accident reports', 'insights from new york car accident reports', 'ibm watson facebook posts for 2015', 'gosales transactions for logistic regression model', 'insights from new york car accident reports', 'fortune 100 companies', 'fortune 100 companies', 'gosales transactions for logistic regression model', 'insights from new york car accident reports', 'insights from new york car accident reports', 'ibm watson facebook posts for 2015', 'using deep learning to reconstruct high-resolution audio', 'insights from new york car accident reports', 'insights from new york car accident reports', 'fortune 100 companies', 'insights from new york car accident reports', 'fortune 100 companies', 'insights from new york car accident reports', 'timeseries data analysis of iot events by using jupyter notebook', 'fortune 100 companies', 'using deep learning to reconstruct high-resolution audio', 'timeseries data analysis of iot events by using jupyter notebook', 'ibm watson facebook posts for 2015', 'timeseries data analysis of iot events by using jupyter notebook', 'fortune 100 companies', 'insights from new york car accident reports', 'fortune 100 companies', 'insights from new york car accident reports', 'gosales transactions for logistic regression model', 'insights from new york car accident reports', 'gosales transactions for logistic regression model', 'gosales transactions for logistic regression model', 'insights from new york car accident reports', 'insights from new york car accident reports', 'ibm watson facebook posts for 2015', 'insights from new york car accident reports', 'timeseries data analysis of iot events by using jupyter notebook', 'timeseries data analysis of iot events by using jupyter notebook', 'insights from new york car accident reports', 'ibm watson facebook posts for 2015', 'timeseries data analysis of iot events by using jupyter notebook', 'using deep learning to reconstruct high-resolution audio', 'gosales transactions for logistic regression model', 'insights from new york car accident reports', 'insights from new york car accident reports', 'fortune 100 companies', 'gosales transactions for logistic regression model', 'gosales transactions for logistic regression model', 'using deep learning to reconstruct high-resolution audio', 'ibm watson facebook posts for 2015', 'fortune 100 companies', 'insights from new york car accident reports', 'ibm watson facebook posts for 2015', 'gosales transactions for logistic regression model', 'insights from new york car accident reports', 'ibm watson facebook posts for 2015', 'ibm watson facebook posts for 2015', 'gosales transactions for logistic regression model', 'insights from new york car accident reports', 'gosales transactions for logistic regression model', 'fortune 100 companies', 'timeseries data analysis of iot events by using jupyter notebook', 'insights from new york car accident reports', 'insights from new york car accident reports', 'insights from new york car accident reports', 'ibm watson facebook posts for 2015', 'insights from new york car accident reports', 'insights from new york car accident reports', 'gosales transactions for logistic regression model', 'gosales transactions for logistic regression model', 'gosales transactions for logistic regression model', 'gosales transactions for logistic regression model', 'gosales transactions for logistic regression model', 'insights from new york car accident reports', 'insights from new york car accident reports', 'insights from new york car accident reports', 'insights from new york car accident reports', 'timeseries data analysis of iot events by using jupyter notebook', 'insights from new york car accident reports', 'gosales transactions for logistic regression model', 'timeseries data analysis of iot events by using jupyter notebook', 'timeseries data analysis of iot events by using jupyter notebook', 'insights from new york car accident reports', 'gosales transactions for logistic regression model', 'insights from new york car accident reports', 'using deep learning to reconstruct high-resolution audio', 'insights from new york car accident reports', 'gosales transactions for logistic regression model', 'insights from new york car accident reports', 'gosales transactions for logistic regression model', 'using deep learning to reconstruct high-resolution audio', 'ibm watson facebook posts for 2015', 'insights from new york car accident reports', 'insights from new york car accident reports', 'fortune 100 companies', 'fortune 100 companies', 'insights from new york car accident reports', 'insights from new york car accident reports', 'insights from new york car accident reports', 'gosales transactions for logistic regression model', 'gosales transactions for logistic regression model', 'insights from new york car accident reports', 'gosales transactions for logistic regression model', 'timeseries data analysis of iot events by using jupyter notebook', 'gosales transactions for logistic regression model', 'fortune 100 companies', 'fortune 100 companies', 'insights from new york car accident reports', 'ibm watson facebook posts for 2015', 'insights from new york car accident reports', 'ibm watson facebook posts for 2015', 'fortune 100 companies', 'insights from new york car accident reports', 'ibm watson facebook posts for 2015', 'gosales transactions for logistic regression model', 'insights from new york car accident reports', 'fortune 100 companies', 'fortune 100 companies', 'insights from new york car accident reports', 'insights from new york car accident reports', 'insights from new york car accident reports', 'insights from new york car accident reports', 'insights from new york car accident reports', 'gosales transactions for logistic regression model', 'insights from new york car accident reports', 'fortune 100 companies', 'insights from new york car accident reports', 'gosales transactions for logistic regression model', 'ibm watson facebook posts for 2015', 'insights from new york car accident reports', 'insights from new york car accident reports', 'using deep learning to reconstruct high-resolution audio', 'fortune 100 companies', 'insights from new york car accident reports', 'fortune 100 companies', 'fortune 100 companies', 'insights from new york car accident reports', 'fortune 100 companies', 'gosales transactions for logistic regression model', 'insights from new york car accident reports', 'timeseries data analysis of iot events by using jupyter notebook', 'insights from new york car accident reports', 'insights from new york car accident reports', 'fortune 100 companies', 'using deep learning to reconstruct high-resolution audio', 'insights from new york car accident reports', 'ibm watson facebook posts for 2015', 'timeseries data analysis of iot events by using jupyter notebook', 'fortune 100 companies', 'insights from new york car accident reports', 'using deep learning to reconstruct high-resolution audio', 'ibm watson facebook posts for 2015', 'insights from new york car accident reports', 'insights from new york car accident reports', 'fortune 100 companies', 'insights from new york car accident reports', 'fortune 100 companies', 'insights from new york car accident reports', 'insights from new york car accident reports', 'ibm watson facebook posts for 2015', 'gosales transactions for logistic regression model', 'fortune 100 companies', 'insights from new york car accident reports', 'insights from new york car accident reports', 'using deep learning to reconstruct high-resolution audio', 'gosales transactions for logistic regression model', 'gosales transactions for logistic regression model', 'gosales transactions for logistic regression model', 'insights from new york car accident reports', 'insights from new york car accident reports', 'insights from new york car accident reports', 'fortune 100 companies', 'insights from new york car accident reports', 'ibm watson facebook posts for 2015', 'insights from new york car accident reports', 'gosales transactions for logistic regression model', 'gosales transactions for logistic regression model', 'fortune 100 companies', 'fortune 100 companies', 'insights from new york car accident reports', 'gosales transactions for logistic regression model', 'insights from new york car accident reports', 'insights from new york car accident reports', 'insights from new york car accident reports', 'insights from new york car accident reports', 'timeseries data analysis of iot events by using jupyter notebook', 'fortune 100 companies', 'gosales transactions for logistic regression model', 'gosales transactions for logistic regression model', 'gosales transactions for logistic regression model', 'fortune 100 companies', 'gosales transactions for logistic regression model', 'using deep learning to reconstruct high-resolution audio', 'gosales transactions for logistic regression model', 'insights from new york car accident reports', 'gosales transactions for logistic regression model', 'gosales transactions for logistic regression model', 'insights from new york car accident reports', 'fortune 100 companies', 'ibm watson facebook posts for 2015', 'timeseries data analysis of iot events by using jupyter notebook', 'gosales transactions for logistic regression model', 'ibm watson facebook posts for 2015', 'insights from new york car accident reports', 'fortune 100 companies', 'insights from new york car accident reports', 'gosales transactions for logistic regression model', 'fortune 100 companies', 'using deep learning to reconstruct high-resolution audio', 'insights from new york car accident reports', 'insights from new york car accident reports', 'ibm watson facebook posts for 2015', 'ibm watson facebook posts for 2015', 'gosales transactions for logistic regression model', 'timeseries data analysis of iot events by using jupyter notebook', 'using deep learning to reconstruct high-resolution audio', 'insights from new york car accident reports', 'fortune 100 companies', 'insights from new york car accident reports', 'insights from new york car accident reports', 'insights from new york car accident reports', 'timeseries data analysis of iot events by using jupyter notebook', 'timeseries data analysis of iot events by using jupyter notebook', 'ibm watson facebook posts for 2015', 'gosales transactions for logistic regression model', 'insights from new york car accident reports', 'gosales transactions for logistic regression model', 'insights from new york car accident reports', 'insights from new york car accident reports', 'ibm watson facebook posts for 2015', 'fortune 100 companies', 'insights from new york car accident reports', 'timeseries data analysis of iot events by using jupyter notebook', 'gosales transactions for logistic regression model', 'ibm watson facebook posts for 2015', 'using deep learning to reconstruct high-resolution audio', 'fortune 100 companies', 'ibm watson facebook posts for 2015', 'gosales transactions for logistic regression model', 'fortune 100 companies', 'insights from new york car accident reports', 'insights from new york car accident reports', 'insights from new york car accident reports', 'insights from new york car accident reports', 'ibm watson facebook posts for 2015', 'insights from new york car accident reports', 'gosales transactions for logistic regression model', 'insights from new york car accident reports', 'ibm watson facebook posts for 2015', 'insights from new york car accident reports', 'insights from new york car accident reports', 'insights from new york car accident reports', 'fortune 100 companies', 'insights from new york car accident reports', 'fortune 100 companies', 'insights from new york car accident reports', 'timeseries data analysis of iot events by using jupyter notebook', 'insights from new york car accident reports', 'fortune 100 companies', 'insights from new york car accident reports', 'ibm watson facebook posts for 2015', 'insights from new york car accident reports', 'gosales transactions for logistic regression model', 'insights from new york car accident reports', 'insights from new york car accident reports', 'gosales transactions for logistic regression model', 'gosales transactions for logistic regression model', 'using deep learning to reconstruct high-resolution audio', 'ibm watson facebook posts for 2015', 'insights from new york car accident reports', 'insights from new york car accident reports', 'ibm watson facebook posts for 2015', 'insights from new york car accident reports', 'insights from new york car accident reports', 'insights from new york car accident reports', 'gosales transactions for logistic regression model', 'insights from new york car accident reports', 'gosales transactions for logistic regression model', 'gosales transactions for logistic regression model', 'gosales transactions for logistic regression model', 'gosales transactions for logistic regression model', 'insights from new york car accident reports', 'gosales transactions for logistic regression model', 'insights from new york car accident reports', 'gosales transactions for logistic regression model', 'gosales transactions for logistic regression model', 'gosales transactions for logistic regression model', 'insights from new york car accident reports', 'using deep learning to reconstruct high-resolution audio', 'insights from new york car accident reports', 'gosales transactions for logistic regression model', 'insights from new york car accident reports', 'insights from new york car accident reports', 'insights from new york car accident reports', 'fortune 100 companies', 'gosales transactions for logistic regression model', 'ibm watson facebook posts for 2015', 'gosales transactions for logistic regression model', 'ibm watson facebook posts for 2015', 'timeseries data analysis of iot events by using jupyter notebook', 'gosales transactions for logistic regression model', 'gosales transactions for logistic regression model', 'ibm watson facebook posts for 2015', 'insights from new york car accident reports', 'insights from new york car accident reports', 'ibm watson facebook posts for 2015', 'fortune 100 companies', 'gosales transactions for logistic regression model', 'timeseries data analysis of iot events by using jupyter notebook', 'ibm watson facebook posts for 2015', 'gosales transactions for logistic regression model', 'insights from new york car accident reports', 'using deep learning to reconstruct high-resolution audio', 'using deep learning to reconstruct high-resolution audio', 'insights from new york car accident reports', 'fortune 100 companies', 'gosales transactions for logistic regression model', 'insights from new york car accident reports', 'insights from new york car accident reports', 'gosales transactions for logistic regression model', 'insights from new york car accident reports', 'insights from new york car accident reports', 'insights from new york car accident reports', 'gosales transactions for logistic regression model', 'gosales transactions for logistic regression model', 'fortune 100 companies', 'gosales transactions for logistic regression model', 'gosales transactions for logistic regression model', 'timeseries data analysis of iot events by using jupyter notebook', 'fortune 100 companies', 'insights from new york car accident reports', 'insights from new york car accident reports', 'insights from new york car accident reports', 'gosales transactions for logistic regression model', 'fortune 100 companies', 'insights from new york car accident reports', 'ibm watson facebook posts for 2015', 'ibm watson facebook posts for 2015', 'ibm watson facebook posts for 2015', 'gosales transactions for logistic regression model', 'gosales transactions for logistic regression model', 'using deep learning to reconstruct high-resolution audio', 'fortune 100 companies', 'insights from new york car accident reports', 'insights from new york car accident reports', 'fortune 100 companies', 'gosales transactions for logistic regression model', 'insights from new york car accident reports', 'gosales transactions for logistic regression model', 'gosales transactions for logistic regression model', 'gosales transactions for logistic regression model', 'ibm watson facebook posts for 2015', 'insights from new york car accident reports', 'timeseries data analysis of iot events by using jupyter notebook', 'ibm watson facebook posts for 2015', 'fortune 100 companies', 'ibm watson facebook posts for 2015', 'gosales transactions for logistic regression model', 'insights from new york car accident reports', 'ibm watson facebook posts for 2015', 'gosales transactions for logistic regression model', 'insights from new york car accident reports', 'insights from new york car accident reports', 'timeseries data analysis of iot events by using jupyter notebook', 'gosales transactions for logistic regression model', 'insights from new york car accident reports', 'insights from new york car accident reports', 'fortune 100 companies', 'insights from new york car accident reports', 'using deep learning to reconstruct high-resolution audio', 'insights from new york car accident reports', 'fortune 100 companies', 'timeseries data analysis of iot events by using jupyter notebook', 'insights from new york car accident reports', 'insights from new york car accident reports', 'fortune 100 companies', 'using deep learning to reconstruct high-resolution audio', 'ibm watson facebook posts for 2015', 'gosales transactions for logistic regression model', 'gosales transactions for logistic regression model', 'fortune 100 companies', 'ibm watson facebook posts for 2015', 'ibm watson facebook posts for 2015', 'gosales transactions for logistic regression model', 'insights from new york car accident reports', 'insights from new york car accident reports', 'insights from new york car accident reports', 'insights from new york car accident reports', 'insights from new york car accident reports', 'ibm watson facebook posts for 2015', 'insights from new york car accident reports', 'insights from new york car accident reports', 'fortune 100 companies', 'gosales transactions for logistic regression model', 'fortune 100 companies', 'timeseries data analysis of iot events by using jupyter notebook', 'gosales transactions for logistic regression model', 'gosales transactions for logistic regression model', 'insights from new york car accident reports', 'insights from new york car accident reports', 'insights from new york car accident reports', 'insights from new york car accident reports', 'insights from new york car accident reports', 'using deep learning to reconstruct high-resolution audio', 'insights from new york car accident reports', 'insights from new york car accident reports', 'insights from new york car accident reports', 'insights from new york car accident reports', 'insights from new york car accident reports', 'insights from new york car accident reports', 'gosales transactions for logistic regression model', 'gosales transactions for logistic regression model', 'insights from new york car accident reports', 'insights from new york car accident reports', 'gosales transactions for logistic regression model', 'insights from new york car accident reports', 'insights from new york car accident reports', 'insights from new york car accident reports', 'fortune 100 companies', 'gosales transactions for logistic regression model', 'insights from new york car accident reports', 'insights from new york car accident reports', 'insights from new york car accident reports', 'insights from new york car accident reports', 'insights from new york car accident reports', 'ibm watson facebook posts for 2015', 'insights from new york car accident reports', 'insights from new york car accident reports', 'timeseries data analysis of iot events by using jupyter notebook', 'insights from new york car accident reports', 'insights from new york car accident reports', 'insights from new york car accident reports', 'insights from new york car accident reports', 'gosales transactions for logistic regression model', 'fortune 100 companies', 'insights from new york car accident reports', 'insights from new york car accident reports', 'ibm watson facebook posts for 2015', 'insights from new york car accident reports', 'gosales transactions for logistic regression model', 'ibm watson facebook posts for 2015', 'gosales transactions for logistic regression model', 'fortune 100 companies', 'insights from new york car accident reports', 'insights from new york car accident reports', 'insights from new york car accident reports', 'fortune 100 companies', 'fortune 100 companies', 'insights from new york car accident reports', 'fortune 100 companies', 'insights from new york car accident reports', 'fortune 100 companies', 'fortune 100 companies', 'ibm watson facebook posts for 2015', 'fortune 100 companies', 'using deep learning to reconstruct high-resolution audio', 'fortune 100 companies', 'insights from new york car accident reports', 'insights from new york car accident reports', 'insights from new york car accident reports', 'gosales transactions for logistic regression model', 'insights from new york car accident reports', 'insights from new york car accident reports', 'gosales transactions for logistic regression model', 'ibm watson facebook posts for 2015', 'fortune 100 companies', 'insights from new york car accident reports', 'fortune 100 companies', 'fortune 100 companies', 'insights from new york car accident reports', 'ibm watson facebook posts for 2015', 'using deep learning to reconstruct high-resolution audio', 'fortune 100 companies', 'ibm watson facebook posts for 2015', 'fortune 100 companies', 'insights from new york car accident reports', 'insights from new york car accident reports', 'gosales transactions for logistic regression model', 'fortune 100 companies', 'gosales transactions for logistic regression model', 'using deep learning to reconstruct high-resolution audio', 'insights from new york car accident reports', 'gosales transactions for logistic regression model', 'insights from new york car accident reports', 'fortune 100 companies', 'insights from new york car accident reports', 'using deep learning to reconstruct high-resolution audio', 'insights from new york car accident reports', 'ibm watson facebook posts for 2015', 'fortune 100 companies', 'timeseries data analysis of iot events by using jupyter notebook', 'gosales transactions for logistic regression model', 'ibm watson facebook posts for 2015', 'timeseries data analysis of iot events by using jupyter notebook', 'gosales transactions for logistic regression model', 'insights from new york car accident reports', 'gosales transactions for logistic regression model', 'ibm watson facebook posts for 2015', 'gosales transactions for logistic regression model', 'insights from new york car accident reports', 'insights from new york car accident reports', 'gosales transactions for logistic regression model', 'ibm watson facebook posts for 2015', 'fortune 100 companies', 'insights from new york car accident reports', 'insights from new york car accident reports', 'gosales transactions for logistic regression model', 'insights from new york car accident reports', 'insights from new york car accident reports', 'insights from new york car accident reports', 'insights from new york car accident reports', 'gosales transactions for logistic regression model', 'using deep learning to reconstruct high-resolution audio', 'fortune 100 companies', 'ibm watson facebook posts for 2015', 'insights from new york car accident reports', 'gosales transactions for logistic regression model', 'gosales transactions for logistic regression model', 'ibm watson facebook posts for 2015', 'gosales transactions for logistic regression model', 'fortune 100 companies', 'ibm watson facebook posts for 2015', 'insights from new york car accident reports', 'insights from new york car accident reports', 'insights from new york car accident reports', 'insights from new york car accident reports', 'using deep learning to reconstruct high-resolution audio', 'insights from new york car accident reports', 'timeseries data analysis of iot events by using jupyter notebook', 'insights from new york car accident reports', 'insights from new york car accident reports', 'insights from new york car accident reports', 'insights from new york car accident reports', 'timeseries data analysis of iot events by using jupyter notebook', 'insights from new york car accident reports', 'insights from new york car accident reports', 'gosales transactions for logistic regression model', 'insights from new york car accident reports', 'gosales transactions for logistic regression model', 'insights from new york car accident reports', 'insights from new york car accident reports', 'gosales transactions for logistic regression model', 'ibm watson facebook posts for 2015', 'insights from new york car accident reports', 'fortune 100 companies', 'gosales transactions for logistic regression model', 'timeseries data analysis of iot events by using jupyter notebook', 'gosales transactions for logistic regression model', 'insights from new york car accident reports', 'insights from new york car accident reports', 'insights from new york car accident reports', 'insights from new york car accident reports', 'insights from new york car accident reports', 'ibm watson facebook posts for 2015', 'insights from new york car accident reports', 'using deep learning to reconstruct high-resolution audio', 'gosales transactions for logistic regression model', 'insights from new york car accident reports', 'ibm watson facebook posts for 2015', 'gosales transactions for logistic regression model', 'insights from new york car accident reports', 'insights from new york car accident reports', 'insights from new york car accident reports', 'using deep learning to reconstruct high-resolution audio', 'fortune 100 companies', 'fortune 100 companies', 'gosales transactions for logistic regression model', 'insights from new york car accident reports', 'insights from new york car accident reports', 'fortune 100 companies', 'insights from new york car accident reports', 'gosales transactions for logistic regression model', 'insights from new york car accident reports', 'timeseries data analysis of iot events by using jupyter notebook', 'using deep learning to reconstruct high-resolution audio', 'insights from new york car accident reports', 'insights from new york car accident reports', 'gosales transactions for logistic regression model', 'insights from new york car accident reports', 'insights from new york car accident reports', 'ibm watson facebook posts for 2015', 'insights from new york car accident reports', 'using deep learning to reconstruct high-resolution audio', 'ibm watson facebook posts for 2015', 'using deep learning to reconstruct high-resolution audio', 'insights from new york car accident reports', 'insights from new york car accident reports', 'insights from new york car accident reports', 'using deep learning to reconstruct high-resolution audio', 'insights from new york car accident reports', 'insights from new york car accident reports', 'insights from new york car accident reports', 'ibm watson facebook posts for 2015', 'ibm watson facebook posts for 2015', 'insights from new york car accident reports', 'timeseries data analysis of iot events by using jupyter notebook', 'insights from new york car accident reports', 'insights from new york car accident reports', 'insights from new york car accident reports', 'timeseries data analysis of iot events by using jupyter notebook', 'gosales transactions for logistic regression model', 'using deep learning to reconstruct high-resolution audio', 'insights from new york car accident reports', 'insights from new york car accident reports', 'insights from new york car accident reports', 'insights from new york car accident reports', 'insights from new york car accident reports', 'insights from new york car accident reports', 'insights from new york car accident reports', 'using deep learning to reconstruct high-resolution audio', 'gosales transactions for logistic regression model', 'insights from new york car accident reports', 'timeseries data analysis of iot events by using jupyter notebook', 'insights from new york car accident reports', 'insights from new york car accident reports', 'fortune 100 companies', 'ibm watson facebook posts for 2015', 'gosales transactions for logistic regression model', 'fortune 100 companies', 'ibm watson facebook posts for 2015', 'insights from new york car accident reports', 'fortune 100 companies', 'timeseries data analysis of iot events by using jupyter notebook', 'fortune 100 companies', 'insights from new york car accident reports', 'gosales transactions for logistic regression model', 'insights from new york car accident reports', 'ibm watson facebook posts for 2015', 'fortune 100 companies', 'insights from new york car accident reports', 'using deep learning to reconstruct high-resolution audio', 'insights from new york car accident reports', 'insights from new york car accident reports', 'insights from new york car accident reports', 'insights from new york car accident reports', 'insights from new york car accident reports', 'insights from new york car accident reports', 'insights from new york car accident reports', 'gosales transactions for logistic regression model', 'insights from new york car accident reports', 'insights from new york car accident reports', 'timeseries data analysis of iot events by using jupyter notebook', 'insights from new york car accident reports', 'using deep learning to reconstruct high-resolution audio', 'insights from new york car accident reports', 'insights from new york car accident reports', 'using deep learning to reconstruct high-resolution audio', 'using deep learning to reconstruct high-resolution audio', 'insights from new york car accident reports', 'insights from new york car accident reports', 'insights from new york car accident reports', 'insights from new york car accident reports', 'gosales transactions for logistic regression model', 'gosales transactions for logistic regression model', 'insights from new york car accident reports', 'gosales transactions for logistic regression model', 'insights from new york car accident reports', 'insights from new york car accident reports', 'timeseries data analysis of iot events by using jupyter notebook', 'timeseries data analysis of iot events by using jupyter notebook', 'timeseries data analysis of iot events by using jupyter notebook', 'timeseries data analysis of iot events by using jupyter notebook', 'insights from new york car accident reports', 'gosales transactions for logistic regression model', 'gosales transactions for logistic regression model', 'gosales transactions for logistic regression model', 'timeseries data analysis of iot events by using jupyter notebook', 'gosales transactions for logistic regression model', 'gosales transactions for logistic regression model', 'fortune 100 companies', 'insights from new york car accident reports', 'fortune 100 companies', 'accelerate your workflow with dsx', 'gosales transactions for logistic regression model', 'gosales transactions for logistic regression model', 'gosales transactions for logistic regression model', 'gosales transactions for logistic regression model', 'gosales transactions for logistic regression model', 'gosales transactions for logistic regression model', 'gosales transactions for logistic regression model', 'insights from new york car accident reports', 'insights from new york car accident reports', 'gosales transactions for logistic regression model', 'gosales transactions for logistic regression model', 'gosales transactions for logistic regression model', 'gosales transactions for logistic regression model', 'gosales transactions for logistic regression model', 'gosales transactions for logistic regression model', 'gosales transactions for logistic regression model', 'gosales transactions for logistic regression model', 'gosales transactions for logistic regression model', 'gosales transactions for logistic regression model', 'timeseries data analysis of iot events by using jupyter notebook', 'gosales transactions for logistic regression model', 'gosales transactions for logistic regression model', 'gosales transactions for logistic regression model', 'insights from new york car accident reports', 'insights from new york car accident reports', 'fortune 100 companies', 'fortune 100 companies', 'fortune 100 companies', 'gosales transactions for logistic regression model', '10 powerful features on watson data platform, no coding necessary', 'gosales transactions for logistic regression model', 'gosales transactions for logistic regression model', 'gosales transactions for logistic regression model', 'gosales transactions for logistic regression model', 'gosales transactions for logistic regression model', 'gosales transactions for logistic regression model', 'gosales transactions for logistic regression model', 'gosales transactions for logistic regression model', 'insights from new york car accident reports', 'timeseries data analysis of iot events by using jupyter notebook', 'insights from new york car accident reports', 'insights from new york car accident reports', 'insights from new york car accident reports', 'insights from new york car accident reports', 'insights from new york car accident reports', 'insights from new york car accident reports', 'insights from new york car accident reports', 'insights from new york car accident reports', 'insights from new york car accident reports', 'insights from new york car accident reports', 'insights from new york car accident reports', 'insights from new york car accident reports', 'insights from new york car accident reports', 'gosales transactions for logistic regression model', 'gosales transactions for logistic regression model', 'fortune 100 companies', 'insights from new york car accident reports', 'insights from new york car accident reports', 'insights from new york car accident reports', 'insights from new york car accident reports', 'insights from new york car accident reports', 'using deep learning to reconstruct high-resolution audio', 'insights from new york car accident reports', 'gosales transactions for logistic regression model', 'insights from new york car accident reports', 'gosales transactions for logistic regression model', 'gosales transactions for logistic regression model', 'ingest data from message hub in a streams flow', 'fortune 100 companies', 'fortune 100 companies', 'fortune 100 companies', 'fortune 100 companies', 'insights from new york car accident reports', 'ingest data from message hub in a streams flow', 'gosales transactions for logistic regression model', 'gosales transactions for logistic regression model', 'ingest data from message hub in a streams flow', 'ingest data from message hub in a streams flow', 'ibm watson facebook posts for 2015', 'ingest data from message hub in a streams flow', 'insights from new york car accident reports', 'ingest data from message hub in a streams flow', 'ingest data from message hub in a streams flow', 'insights from new york car accident reports', 'ingest data from message hub in a streams flow', 'fortune 100 companies', 'insights from new york car accident reports', 'insights from new york car accident reports', 'ingest data from message hub in a streams flow', 'ingest data from message hub in a streams flow', 'gosales transactions for logistic regression model', 'insights from new york car accident reports', 'insights from new york car accident reports', 'timeseries data analysis of iot events by using jupyter notebook', 'ingest data from message hub in a streams flow', 'ingest data from message hub in a streams flow', 'ingest data from message hub in a streams flow', 'ingest data from message hub in a streams flow', 'gosales transactions for logistic regression model', 'gosales transactions for logistic regression model', 'gosales transactions for logistic regression model', 'gosales transactions for logistic regression model', 'insights from new york car accident reports', 'ingest data from message hub in a streams flow', 'ingest data from message hub in a streams flow', 'gosales transactions for logistic regression model', 'gosales transactions for logistic regression model', 'gosales transactions for logistic regression model', 'gosales transactions for logistic regression model', 'ingest data from message hub in a streams flow', 'ingest data from message hub in a streams flow', 'ibm watson facebook posts for 2015', 'timeseries data analysis of iot events by using jupyter notebook', 'gosales transactions for logistic regression model', 'gosales transactions for logistic regression model', 'insights from new york car accident reports', 'gosales transactions for logistic regression model', 'gosales transactions for logistic regression model', 'gosales transactions for logistic regression model', 'gosales transactions for logistic regression model', 'gosales transactions for logistic regression model', 'gosales transactions for logistic regression model', 'gosales transactions for logistic regression model', 'insights from new york car accident reports', 'gosales transactions for logistic regression model', 'ingest data from message hub in a streams flow', 'gosales transactions for logistic regression model', 'ingest data from message hub in a streams flow', 'gosales transactions for logistic regression model', 'ibm watson facebook posts for 2015', 'insights from new york car accident reports', 'insights from new york car accident reports', 'insights from new york car accident reports', 'fortune 100 companies', 'gosales transactions for logistic regression model', 'gosales transactions for logistic regression model', 'gosales transactions for logistic regression model', 'gosales transactions for logistic regression model', 'gosales transactions for logistic regression model', '10 powerful features on watson data platform, no coding necessary', 'ingest data from message hub in a streams flow', 'timeseries data analysis of iot events by using jupyter notebook', 'gosales transactions for logistic regression model', 'timeseries data analysis of iot events by using jupyter notebook', 'gosales transactions for logistic regression model', 'gosales transactions for logistic regression model', 'gosales transactions for logistic regression model', 'timeseries data analysis of iot events by using jupyter notebook', 'gosales transactions for logistic regression model', 'timeseries data analysis of iot events by using jupyter notebook', 'gosales transactions for logistic regression model', 'gosales transactions for logistic regression model', 'gosales transactions for logistic regression model', 'gosales transactions for logistic regression model', 'gosales transactions for logistic regression model', 'gosales transactions for logistic regression model', 'gosales transactions for logistic regression model', 'gosales transactions for logistic regression model', 'using deep learning to reconstruct high-resolution audio', 'insights from new york car accident reports', 'insights from new york car accident reports', 'gosales transactions for logistic regression model', 'gosales transactions for logistic regression model', 'ingest data from message hub in a streams flow', 'insights from new york car accident reports', 'gosales transactions for logistic regression model', 'gosales transactions for logistic regression model', 'insights from new york car accident reports', 'insights from new york car accident reports', 'gosales transactions for logistic regression model', 'gosales transactions for logistic regression model', 'gosales transactions for logistic regression model', 'gosales transactions for logistic regression model', 'insights from new york car accident reports', 'insights from new york car accident reports', 'insights from new york car accident reports', 'insights from new york car accident reports', 'ibm watson facebook posts for 2015', 'insights from new york car accident reports', 'insights from new york car accident reports', 'gosales transactions for logistic regression model', 'gosales transactions for logistic regression model', 'insights from new york car accident reports', 'insights from new york car accident reports', 'gosales transactions for logistic regression model', 'insights from new york car accident reports', 'gosales transactions for logistic regression model', 'gosales transactions for logistic regression model', 'insights from new york car accident reports', 'insights from new york car accident reports', 'insights from new york car accident reports', 'insights from new york car accident reports', 'insights from new york car accident reports', 'insights from new york car accident reports', 'insights from new york car accident reports', 'insights from new york car accident reports', 'insights from new york car accident reports', 'insights from new york car accident reports', 'insights from new york car accident reports', 'insights from new york car accident reports', 'insights from new york car accident reports', 'insights from new york car accident reports', 'insights from new york car accident reports', 'insights from new york car accident reports', 'insights from new york car accident reports', 'insights from new york car accident reports', 'insights from new york car accident reports', 'insights from new york car accident reports', 'timeseries data analysis of iot events by using jupyter notebook', 'insights from new york car accident reports', 'insights from new york car accident reports', 'insights from new york car accident reports', 'insights from new york car accident reports', 'using deep learning to reconstruct high-resolution audio', 'ibm watson facebook posts for 2015', 'ibm watson facebook posts for 2015', 'insights from new york car accident reports', 'insights from new york car accident reports', 'insights from new york car accident reports', 'gosales transactions for logistic regression model', 'timeseries data analysis of iot events by using jupyter notebook', 'gosales transactions for logistic regression model', 'ibm watson facebook posts for 2015', 'fortune 100 companies', 'gosales transactions for logistic regression model', 'insights from new york car accident reports', 'ibm watson facebook posts for 2015', 'fortune 100 companies', 'timeseries data analysis of iot events by using jupyter notebook', 'insights from new york car accident reports', 'insights from new york car accident reports', 'insights from new york car accident reports', 'gosales transactions for logistic regression model', 'gosales transactions for logistic regression model', 'timeseries data analysis of iot events by using jupyter notebook', 'fortune 100 companies', 'insights from new york car accident reports', 'insights from new york car accident reports', 'gosales transactions for logistic regression model', 'timeseries data analysis of iot events by using jupyter notebook', 'insights from new york car accident reports', 'insights from new york car accident reports', 'insights from new york car accident reports', 'fortune 100 companies', 'insights from new york car accident reports', 'insights from new york car accident reports', 'insights from new york car accident reports', 'insights from new york car accident reports', 'insights from new york car accident reports', 'gosales transactions for logistic regression model', 'gosales transactions for logistic regression model', 'insights from new york car accident reports', 'insights from new york car accident reports', 'insights from new york car accident reports', 'insights from new york car accident reports', 'gosales transactions for logistic regression model', 'insights from new york car accident reports', 'insights from new york car accident reports', 'insights from new york car accident reports', 'ibm watson facebook posts for 2015', 'insights from new york car accident reports', 'insights from new york car accident reports', 'insights from new york car accident reports', 'insights from new york car accident reports', 'gosales transactions for logistic regression model', 'gosales transactions for logistic regression model', 'insights from new york car accident reports', 'insights from new york car accident reports', 'accelerate your workflow with dsx', 'accelerate your workflow with dsx', 'build a naive-bayes model with wml & dsx', 'build a naive-bayes model with wml & dsx', 'accelerate your workflow with dsx', 'insights from new york car accident reports', 'gosales transactions for logistic regression model', 'accelerate your workflow with dsx', 'insights from new york car accident reports', 'accelerate your workflow with dsx', 'timeseries data analysis of iot events by using jupyter notebook', 'accelerate your workflow with dsx', 'insights from new york car accident reports', 'accelerate your workflow with dsx', 'accelerate your workflow with dsx', 'accelerate your workflow with dsx', 'accelerate your workflow with dsx', 'insights from new york car accident reports', 'insights from new york car accident reports', 'accelerate your workflow with dsx', 'accelerate your workflow with dsx', 'gosales transactions for logistic regression model', 'timeseries data analysis of iot events by using jupyter notebook', 'insights from new york car accident reports', 'gosales transactions for logistic regression model', 'gosales transactions for logistic regression model', 'gosales transactions for logistic regression model', 'gosales transactions for logistic regression model', 'ibm watson facebook posts for 2015', 'ibm watson facebook posts for 2015', 'gosales transactions for logistic regression model', 'timeseries data analysis of iot events by using jupyter notebook', 'fortune 100 companies', 'ibm watson facebook posts for 2015', 'gosales transactions for logistic regression model', 'fortune 100 companies', 'fortune 100 companies', 'fortune 100 companies', 'gosales transactions for logistic regression model', 'timeseries data analysis of iot events by using jupyter notebook', 'timeseries data analysis of iot events by using jupyter notebook', 'timeseries data analysis of iot events by using jupyter notebook', 'timeseries data analysis of iot events by using jupyter notebook', 'insights from new york car accident reports', 'insights from new york car accident reports', 'insights from new york car accident reports', 'insights from new york car accident reports', 'gosales transactions for logistic regression model', 'insights from new york car accident reports', 'insights from new york car accident reports', 'timeseries data analysis of iot events by using jupyter notebook', 'using deep learning to reconstruct high-resolution audio', 'fortune 100 companies', 'gosales transactions for logistic regression model', 'gosales transactions for logistic regression model', 'gosales transactions for logistic regression model', 'gosales transactions for logistic regression model', 'gosales transactions for logistic regression model', 'gosales transactions for logistic regression model', 'gosales transactions for logistic regression model', 'gosales transactions for logistic regression model', 'gosales transactions for logistic regression model', 'gosales transactions for logistic regression model', 'gosales transactions for logistic regression model', 'gosales transactions for logistic regression model', 'gosales transactions for logistic regression model', 'timeseries data analysis of iot events by using jupyter notebook', 'insights from new york car accident reports', 'insights from new york car accident reports', 'insights from new york car accident reports', 'accelerate your workflow with dsx', 'accelerate your workflow with dsx', 'timeseries data analysis of iot events by using jupyter notebook', 'timeseries data analysis of iot events by using jupyter notebook', 'timeseries data analysis of iot events by using jupyter notebook', 'timeseries data analysis of iot events by using jupyter notebook', 'using deep learning to reconstruct high-resolution audio', 'fortune 100 companies', 'insights from new york car accident reports', 'fortune 100 companies', 'insights from new york car accident reports', 'insights from new york car accident reports', 'ibm watson facebook posts for 2015', 'timeseries data analysis of iot events by using jupyter notebook', 'ingest data from message hub in a streams flow', 'insights from new york car accident reports', 'fortune 100 companies', 'fortune 100 companies', 'fortune 100 companies', 'insights from new york car accident reports', 'insights from new york car accident reports', 'fortune 100 companies', 'insights from new york car accident reports', 'ibm watson facebook posts for 2015', 'ibm watson facebook posts for 2015', 'insights from new york car accident reports', 'gosales transactions for logistic regression model', 'gosales transactions for logistic regression model', 'insights from new york car accident reports', 'timeseries data analysis of iot events by using jupyter notebook', 'insights from new york car accident reports', 'insights from new york car accident reports', 'ingest data from message hub in a streams flow', 'gosales transactions for logistic regression model', 'insights from new york car accident reports', 'timeseries data analysis of iot events by using jupyter notebook', 'insights from new york car accident reports', 'insights from new york car accident reports', 'gosales transactions for logistic regression model', 'timeseries data analysis of iot events by using jupyter notebook', 'insights from new york car accident reports', 'gosales transactions for logistic regression model', 'insights from new york car accident reports', 'insights from new york car accident reports', 'insights from new york car accident reports', 'insights from new york car accident reports', 'insights from new york car accident reports', 'insights from new york car accident reports', 'gosales transactions for logistic regression model', 'insights from new york car accident reports', 'gosales transactions for logistic regression model', 'gosales transactions for logistic regression model', 'accelerate your workflow with dsx', 'using deep learning to reconstruct high-resolution audio', 'ibm watson facebook posts for 2015', 'ibm watson facebook posts for 2015', 'ibm watson facebook posts for 2015', 'fortune 100 companies', 'gosales transactions for logistic regression model', 'gosales transactions for logistic regression model', 'timeseries data analysis of iot events by using jupyter notebook', 'gosales transactions for logistic regression model', 'fortune 100 companies', 'timeseries data analysis of iot events by using jupyter notebook', 'timeseries data analysis of iot events by using jupyter notebook', 'insights from new york car accident reports', 'insights from new york car accident reports', 'insights from new york car accident reports', 'ibm watson facebook posts for 2015', 'insights from new york car accident reports', 'insights from new york car accident reports', 'insights from new york car accident reports', 'gosales transactions for logistic regression model', 'gosales transactions for logistic regression model', 'gosales transactions for logistic regression model', 'timeseries data analysis of iot events by using jupyter notebook', 'using deep learning to reconstruct high-resolution audio', 'gosales transactions for logistic regression model', 'insights from new york car accident reports', '10 powerful features on watson data platform, no coding necessary', 'insights from new york car accident reports', 'insights from new york car accident reports', 'ingest data from message hub in a streams flow', 'ibm watson facebook posts for 2015', 'gosales transactions for logistic regression model', 'build a naive-bayes model with wml & dsx', 'build a naive-bayes model with wml & dsx', 'insights from new york car accident reports', 'timeseries data analysis of iot events by using jupyter notebook', 'fortune 100 companies', 'fortune 100 companies', 'insights from new york car accident reports', '10 powerful features on watson data platform, no coding necessary', 'ingest data from message hub in a streams flow', 'insights from new york car accident reports', 'insights from new york car accident reports', 'ingest data from message hub in a streams flow', '10 powerful features on watson data platform, no coding necessary', 'accelerate your workflow with dsx', 'timeseries data analysis of iot events by using jupyter notebook', 'timeseries data analysis of iot events by using jupyter notebook', 'insights from new york car accident reports', 'insights from new york car accident reports', 'gosales transactions for logistic regression model', 'using deep learning to reconstruct high-resolution audio', 'ingest data from message hub in a streams flow', 'insights from new york car accident reports', 'insights from new york car accident reports', 'timeseries data analysis of iot events by using jupyter notebook', 'gosales transactions for logistic regression model', 'insights from new york car accident reports', 'insights from new york car accident reports', 'fortune 100 companies', 'insights from new york car accident reports', 'insights from new york car accident reports', 'insights from new york car accident reports', 'insights from new york car accident reports', 'ingest data from message hub in a streams flow', 'gosales transactions for logistic regression model', 'insights from new york car accident reports', 'insights from new york car accident reports', 'insights from new york car accident reports', 'insights from new york car accident reports', 'insights from new york car accident reports', 'insights from new york car accident reports', 'insights from new york car accident reports', 'insights from new york car accident reports', 'gosales transactions for logistic regression model', 'insights from new york car accident reports', 'insights from new york car accident reports', 'insights from new york car accident reports', 'insights from new york car accident reports', 'insights from new york car accident reports', 'insights from new york car accident reports', 'gosales transactions for logistic regression model', 'gosales transactions for logistic regression model', 'gosales transactions for logistic regression model', 'ibm watson facebook posts for 2015', 'insights from new york car accident reports', 'insights from new york car accident reports', 'insights from new york car accident reports', 'fortune 100 companies', 'gosales transactions for logistic regression model', 'insights from new york car accident reports', 'insights from new york car accident reports', 'insights from new york car accident reports', 'insights from new york car accident reports', 'insights from new york car accident reports', 'insights from new york car accident reports', 'insights from new york car accident reports', 'insights from new york car accident reports', 'insights from new york car accident reports', 'fortune 100 companies', 'timeseries data analysis of iot events by using jupyter notebook', 'gosales transactions for logistic regression model', 'insights from new york car accident reports', 'timeseries data analysis of iot events by using jupyter notebook', 'insights from new york car accident reports', 'insights from new york car accident reports', 'insights from new york car accident reports', 'insights from new york car accident reports', 'insights from new york car accident reports', 'insights from new york car accident reports', 'insights from new york car accident reports', 'insights from new york car accident reports', 'insights from new york car accident reports', 'insights from new york car accident reports', 'insights from new york car accident reports', 'insights from new york car accident reports', 'insights from new york car accident reports', 'insights from new york car accident reports', 'ibm watson facebook posts for 2015', 'fortune 100 companies', 'gosales transactions for logistic regression model', 'gosales transactions for logistic regression model', 'gosales transactions for logistic regression model', 'insights from new york car accident reports', 'ibm watson facebook posts for 2015', 'using deep learning to reconstruct high-resolution audio', 'insights from new york car accident reports', 'timeseries data analysis of iot events by using jupyter notebook', 'ibm watson facebook posts for 2015', 'fortune 100 companies', 'ibm watson facebook posts for 2015', 'fortune 100 companies', 'using deep learning to reconstruct high-resolution audio', 'fortune 100 companies', 'fortune 100 companies', 'gosales transactions for logistic regression model', 'gosales transactions for logistic regression model', 'ibm watson facebook posts for 2015', 'insights from new york car accident reports', 'gosales transactions for logistic regression model', 'fortune 100 companies', 'gosales transactions for logistic regression model', 'ibm watson facebook posts for 2015', 'insights from new york car accident reports', 'insights from new york car accident reports', 'insights from new york car accident reports', 'gosales transactions for logistic regression model', 'using deep learning to reconstruct high-resolution audio', 'insights from new york car accident reports', 'insights from new york car accident reports', 'ibm watson facebook posts for 2015', 'insights from new york car accident reports', 'fortune 100 companies', 'accelerate your workflow with dsx', 'fortune 100 companies', 'gosales transactions for logistic regression model', 'insights from new york car accident reports', 'gosales transactions for logistic regression model', 'gosales transactions for logistic regression model', 'insights from new york car accident reports', 'ingest data from message hub in a streams flow', 'insights from new york car accident reports', 'fortune 100 companies', 'ibm watson facebook posts for 2015', 'ibm watson facebook posts for 2015', 'insights from new york car accident reports', 'timeseries data analysis of iot events by using jupyter notebook', 'gosales transactions for logistic regression model', 'gosales transactions for logistic regression model', 'insights from new york car accident reports', 'insights from new york car accident reports', 'timeseries data analysis of iot events by using jupyter notebook', 'insights from new york car accident reports', 'insights from new york car accident reports', 'insights from new york car accident reports', 'insights from new york car accident reports', 'insights from new york car accident reports', 'insights from new york car accident reports', 'insights from new york car accident reports', 'insights from new york car accident reports', 'insights from new york car accident reports', 'insights from new york car accident reports', 'insights from new york car accident reports', 'using deep learning to reconstruct high-resolution audio', 'insights from new york car accident reports', 'insights from new york car accident reports', 'ibm watson facebook posts for 2015', 'insights from new york car accident reports', 'insights from new york car accident reports', 'insights from new york car accident reports', 'insights from new york car accident reports', 'fortune 100 companies', 'timeseries data analysis of iot events by using jupyter notebook', 'insights from new york car accident reports', 'insights from new york car accident reports', 'gosales transactions for logistic regression model', 'insights from new york car accident reports', 'fortune 100 companies', 'fortune 100 companies', 'insights from new york car accident reports', 'insights from new york car accident reports', 'insights from new york car accident reports', 'insights from new york car accident reports', 'gosales transactions for logistic regression model', 'fortune 100 companies', 'insights from new york car accident reports', 'insights from new york car accident reports', 'gosales transactions for logistic regression model', 'gosales transactions for logistic regression model', 'insights from new york car accident reports', 'insights from new york car accident reports', 'gosales transactions for logistic regression model', 'using deep learning to reconstruct high-resolution audio', 'insights from new york car accident reports', 'insights from new york car accident reports', 'insights from new york car accident reports', 'insights from new york car accident reports', 'insights from new york car accident reports', 'insights from new york car accident reports', 'insights from new york car accident reports', 'insights from new york car accident reports', 'insights from new york car accident reports', 'timeseries data analysis of iot events by using jupyter notebook', 'insights from new york car accident reports', 'insights from new york car accident reports', 'gosales transactions for logistic regression model', 'insights from new york car accident reports', 'insights from new york car accident reports', 'insights from new york car accident reports', 'insights from new york car accident reports', 'insights from new york car accident reports', 'ingest data from message hub in a streams flow', 'gosales transactions for logistic regression model', '10 powerful features on watson data platform, no coding necessary', 'fortune 100 companies', 'gosales transactions for logistic regression model', 'insights from new york car accident reports', 'insights from new york car accident reports', 'ibm watson facebook posts for 2015', 'gosales transactions for logistic regression model', 'insights from new york car accident reports', 'ibm watson facebook posts for 2015', 'ibm watson facebook posts for 2015', 'insights from new york car accident reports', 'insights from new york car accident reports', 'gosales transactions for logistic regression model', 'using deep learning to reconstruct high-resolution audio', 'timeseries data analysis of iot events by using jupyter notebook', 'fortune 100 companies', 'insights from new york car accident reports', '10 powerful features on watson data platform, no coding necessary', 'insights from new york car accident reports', 'insights from new york car accident reports', 'insights from new york car accident reports', 'insights from new york car accident reports', 'insights from new york car accident reports', 'timeseries data analysis of iot events by using jupyter notebook', 'using deep learning to reconstruct high-resolution audio', 'gosales transactions for logistic regression model', 'insights from new york car accident reports', 'insights from new york car accident reports', 'ingest data from message hub in a streams flow', 'ibm watson facebook posts for 2015', 'insights from new york car accident reports', 'fortune 100 companies', 'insights from new york car accident reports', 'using deep learning to reconstruct high-resolution audio', 'gosales transactions for logistic regression model', 'gosales transactions for logistic regression model', 'ibm watson facebook posts for 2015', 'insights from new york car accident reports', 'insights from new york car accident reports', 'insights from new york car accident reports', 'using deep learning to reconstruct high-resolution audio', 'insights from new york car accident reports', 'insights from new york car accident reports', 'insights from new york car accident reports', 'insights from new york car accident reports', 'insights from new york car accident reports', 'insights from new york car accident reports', 'ibm watson facebook posts for 2015', 'using deep learning to reconstruct high-resolution audio', 'insights from new york car accident reports', 'ibm watson facebook posts for 2015', 'timeseries data analysis of iot events by using jupyter notebook', 'ibm watson facebook posts for 2015', 'insights from new york car accident reports', 'timeseries data analysis of iot events by using jupyter notebook', 'using deep learning to reconstruct high-resolution audio', 'insights from new york car accident reports', 'insights from new york car accident reports', 'ibm watson facebook posts for 2015', 'fortune 100 companies', 'timeseries data analysis of iot events by using jupyter notebook', 'gosales transactions for logistic regression model', 'insights from new york car accident reports', 'insights from new york car accident reports', 'timeseries data analysis of iot events by using jupyter notebook', 'accelerate your workflow with dsx', 'gosales transactions for logistic regression model', 'accelerate your workflow with dsx', 'timeseries data analysis of iot events by using jupyter notebook', 'timeseries data analysis of iot events by using jupyter notebook', 'insights from new york car accident reports', 'timeseries data analysis of iot events by using jupyter notebook', 'insights from new york car accident reports', 'timeseries data analysis of iot events by using jupyter notebook', 'timeseries data analysis of iot events by using jupyter notebook', 'insights from new york car accident reports', 'gosales transactions for logistic regression model', 'insights from new york car accident reports', 'insights from new york car accident reports', 'timeseries data analysis of iot events by using jupyter notebook', 'ibm watson facebook posts for 2015', 'insights from new york car accident reports', 'insights from new york car accident reports', 'ibm watson facebook posts for 2015', 'gosales transactions for logistic regression model', 'timeseries data analysis of iot events by using jupyter notebook', 'insights from new york car accident reports', 'insights from new york car accident reports', 'ibm watson facebook posts for 2015', 'ingest data from message hub in a streams flow', 'insights from new york car accident reports', 'insights from new york car accident reports', 'gosales transactions for logistic regression model', 'ibm watson facebook posts for 2015', 'insights from new york car accident reports', 'insights from new york car accident reports', 'insights from new york car accident reports', 'gosales transactions for logistic regression model', 'insights from new york car accident reports', 'insights from new york car accident reports', 'insights from new york car accident reports', 'insights from new york car accident reports', 'insights from new york car accident reports', 'ibm watson facebook posts for 2015', 'fortune 100 companies', 'fortune 100 companies', 'fortune 100 companies', 'ibm watson facebook posts for 2015', 'gosales transactions for logistic regression model', 'gosales transactions for logistic regression model', 'gosales transactions for logistic regression model', 'gosales transactions for logistic regression model', 'gosales transactions for logistic regression model', 'ibm watson facebook posts for 2015', 'insights from new york car accident reports', 'insights from new york car accident reports', 'ibm watson facebook posts for 2015', 'insights from new york car accident reports', 'insights from new york car accident reports', 'fortune 100 companies', 'gosales transactions for logistic regression model', 'timeseries data analysis of iot events by using jupyter notebook', 'accelerate your workflow with dsx', 'using deep learning to reconstruct high-resolution audio', 'insights from new york car accident reports', 'insights from new york car accident reports', 'gosales transactions for logistic regression model', 'insights from new york car accident reports', 'insights from new york car accident reports', 'ibm watson facebook posts for 2015', 'accelerate your workflow with dsx', 'insights from new york car accident reports', 'ibm watson facebook posts for 2015', 'gosales transactions for logistic regression model', 'insights from new york car accident reports', 'ibm watson facebook posts for 2015', 'fortune 100 companies', 'ibm watson facebook posts for 2015', 'timeseries data analysis of iot events by using jupyter notebook', 'insights from new york car accident reports', 'accelerate your workflow with dsx', 'fortune 100 companies', 'insights from new york car accident reports', 'insights from new york car accident reports', 'insights from new york car accident reports', 'timeseries data analysis of iot events by using jupyter notebook', 'timeseries data analysis of iot events by using jupyter notebook', 'insights from new york car accident reports', 'gosales transactions for logistic regression model', 'insights from new york car accident reports', 'gosales transactions for logistic regression model', 'gosales transactions for logistic regression model', 'insights from new york car accident reports', 'insights from new york car accident reports', 'ibm watson facebook posts for 2015', 'timeseries data analysis of iot events by using jupyter notebook', '10 powerful features on watson data platform, no coding necessary', 'gosales transactions for logistic regression model', 'gosales transactions for logistic regression model', 'gosales transactions for logistic regression model', 'gosales transactions for logistic regression model', 'gosales transactions for logistic regression model', 'fortune 100 companies', 'insights from new york car accident reports', 'insights from new york car accident reports', 'fortune 100 companies', 'gosales transactions for logistic regression model', 'gosales transactions for logistic regression model', 'gosales transactions for logistic regression model', 'using deep learning to reconstruct high-resolution audio', 'insights from new york car accident reports', 'insights from new york car accident reports', 'insights from new york car accident reports', 'insights from new york car accident reports', 'insights from new york car accident reports', 'using deep learning to reconstruct high-resolution audio', 'fortune 100 companies', '10 powerful features on watson data platform, no coding necessary', 'insights from new york car accident reports', 'insights from new york car accident reports', 'insights from new york car accident reports', 'gosales transactions for logistic regression model', 'fortune 100 companies', 'insights from new york car accident reports', 'gosales transactions for logistic regression model', 'gosales transactions for logistic regression model', 'gosales transactions for logistic regression model', 'insights from new york car accident reports', 'insights from new york car accident reports', 'insights from new york car accident reports', 'using deep learning to reconstruct high-resolution audio', 'gosales transactions for logistic regression model', 'gosales transactions for logistic regression model', 'gosales transactions for logistic regression model', 'fortune 100 companies', 'insights from new york car accident reports', 'insights from new york car accident reports', 'insights from new york car accident reports', 'insights from new york car accident reports', 'gosales transactions for logistic regression model', 'insights from new york car accident reports', 'gosales transactions for logistic regression model', 'gosales transactions for logistic regression model', 'insights from new york car accident reports', 'gosales transactions for logistic regression model', 'gosales transactions for logistic regression model', 'fortune 100 companies', 'ibm watson facebook posts for 2015', 'gosales transactions for logistic regression model', 'insights from new york car accident reports', 'insights from new york car accident reports', 'gosales transactions for logistic regression model', 'insights from new york car accident reports', 'insights from new york car accident reports', 'insights from new york car accident reports', 'fortune 100 companies', 'fortune 100 companies', 'fortune 100 companies', 'timeseries data analysis of iot events by using jupyter notebook', 'insights from new york car accident reports', 'insights from new york car accident reports', 'insights from new york car accident reports', 'insights from new york car accident reports', 'insights from new york car accident reports', 'insights from new york car accident reports', 'insights from new york car accident reports', 'insights from new york car accident reports', 'insights from new york car accident reports', 'insights from new york car accident reports', 'insights from new york car accident reports', 'insights from new york car accident reports', 'gosales transactions for logistic regression model', 'gosales transactions for logistic regression model', 'insights from new york car accident reports', 'gosales transactions for logistic regression model', 'ibm watson facebook posts for 2015', 'fortune 100 companies', 'ibm watson facebook posts for 2015', 'ibm watson facebook posts for 2015', 'timeseries data analysis of iot events by using jupyter notebook', 'gosales transactions for logistic regression model', 'insights from new york car accident reports', '10 powerful features on watson data platform, no coding necessary', 'timeseries data analysis of iot events by using jupyter notebook', '10 powerful features on watson data platform, no coding necessary', 'timeseries data analysis of iot events by using jupyter notebook', 'insights from new york car accident reports', 'gosales transactions for logistic regression model', 'ibm watson facebook posts for 2015', 'gosales transactions for logistic regression model', 'gosales transactions for logistic regression model', 'gosales transactions for logistic regression model', 'fortune 100 companies', 'using deep learning to reconstruct high-resolution audio', 'gosales transactions for logistic regression model', 'gosales transactions for logistic regression model', 'gosales transactions for logistic regression model', 'gosales transactions for logistic regression model', 'gosales transactions for logistic regression model', 'gosales transactions for logistic regression model', 'gosales transactions for logistic regression model', 'gosales transactions for logistic regression model', 'insights from new york car accident reports', 'insights from new york car accident reports', 'gosales transactions for logistic regression model', 'fortune 100 companies', 'insights from new york car accident reports', 'fortune 100 companies', 'insights from new york car accident reports', 'insights from new york car accident reports', 'insights from new york car accident reports', 'gosales transactions for logistic regression model', 'ibm watson facebook posts for 2015', 'insights from new york car accident reports', '10 powerful features on watson data platform, no coding necessary', 'fortune 100 companies', '10 powerful features on watson data platform, no coding necessary', 'fortune 100 companies', 'fortune 100 companies', 'fortune 100 companies', 'insights from new york car accident reports', 'insights from new york car accident reports', 'insights from new york car accident reports', 'ingest data from message hub in a streams flow', 'ingest data from message hub in a streams flow', 'insights from new york car accident reports', 'gosales transactions for logistic regression model', '10 powerful features on watson data platform, no coding necessary', 'insights from new york car accident reports', 'insights from new york car accident reports', 'gosales transactions for logistic regression model', 'insights from new york car accident reports', 'gosales transactions for logistic regression model', 'gosales transactions for logistic regression model', 'ibm watson facebook posts for 2015', 'gosales transactions for logistic regression model', 'insights from new york car accident reports', 'insights from new york car accident reports', 'insights from new york car accident reports', 'gosales transactions for logistic regression model', 'gosales transactions for logistic regression model', 'insights from new york car accident reports', 'gosales transactions for logistic regression model', 'insights from new york car accident reports', 'insights from new york car accident reports', 'gosales transactions for logistic regression model', 'gosales transactions for logistic regression model', 'insights from new york car accident reports', 'gosales transactions for logistic regression model', 'timeseries data analysis of iot events by using jupyter notebook', 'ingest data from message hub in a streams flow', 'gosales transactions for logistic regression model', 'gosales transactions for logistic regression model', 'gosales transactions for logistic regression model', 'gosales transactions for logistic regression model', 'gosales transactions for logistic regression model', 'gosales transactions for logistic regression model', 'ibm watson facebook posts for 2015', 'insights from new york car accident reports', 'fortune 100 companies', 'insights from new york car accident reports', 'ibm watson facebook posts for 2015', 'insights from new york car accident reports', 'insights from new york car accident reports', 'gosales transactions for logistic regression model', 'ibm watson facebook posts for 2015', '10 powerful features on watson data platform, no coding necessary', 'ingest data from message hub in a streams flow', '10 powerful features on watson data platform, no coding necessary', 'ibm watson facebook posts for 2015', 'insights from new york car accident reports', 'timeseries data analysis of iot events by using jupyter notebook', 'timeseries data analysis of iot events by using jupyter notebook', 'gosales transactions for logistic regression model', 'insights from new york car accident reports', 'gosales transactions for logistic regression model', 'ibm watson facebook posts for 2015', 'using deep learning to reconstruct high-resolution audio', 'using deep learning to reconstruct high-resolution audio', 'using deep learning to reconstruct high-resolution audio', 'gosales transactions for logistic regression model', 'ingest data from message hub in a streams flow', 'ibm watson facebook posts for 2015', 'ibm watson facebook posts for 2015', 'insights from new york car accident reports', 'insights from new york car accident reports', 'insights from new york car accident reports', 'insights from new york car accident reports', 'gosales transactions for logistic regression model', 'fortune 100 companies', 'gosales transactions for logistic regression model', 'gosales transactions for logistic regression model', 'gosales transactions for logistic regression model', 'gosales transactions for logistic regression model', 'gosales transactions for logistic regression model', 'gosales transactions for logistic regression model', 'ibm watson facebook posts for 2015', 'fortune 100 companies', 'insights from new york car accident reports', 'insights from new york car accident reports', 'insights from new york car accident reports', 'gosales transactions for logistic regression model', 'insights from new york car accident reports', 'insights from new york car accident reports', 'gosales transactions for logistic regression model', 'gosales transactions for logistic regression model', 'insights from new york car accident reports', 'gosales transactions for logistic regression model', 'insights from new york car accident reports', 'insights from new york car accident reports', 'ingest data from message hub in a streams flow', 'fortune 100 companies', 'gosales transactions for logistic regression model', '10 powerful features on watson data platform, no coding necessary', 'fortune 100 companies', 'fortune 100 companies', 'gosales transactions for logistic regression model', 'gosales transactions for logistic regression model', 'gosales transactions for logistic regression model', 'insights from new york car accident reports', 'insights from new york car accident reports', 'fortune 100 companies', 'timeseries data analysis of iot events by using jupyter notebook', 'ibm watson facebook posts for 2015', 'insights from new york car accident reports', 'insights from new york car accident reports', 'insights from new york car accident reports', 'insights from new york car accident reports', 'insights from new york car accident reports', 'insights from new york car accident reports', 'insights from new york car accident reports', 'insights from new york car accident reports', 'insights from new york car accident reports', 'insights from new york car accident reports', 'insights from new york car accident reports', 'gosales transactions for logistic regression model', 'insights from new york car accident reports', 'insights from new york car accident reports', 'insights from new york car accident reports', 'insights from new york car accident reports', 'insights from new york car accident reports', 'insights from new york car accident reports', 'insights from new york car accident reports', 'insights from new york car accident reports', 'insights from new york car accident reports', 'gosales transactions for logistic regression model', 'insights from new york car accident reports', 'ibm watson facebook posts for 2015', 'timeseries data analysis of iot events by using jupyter notebook', 'timeseries data analysis of iot events by using jupyter notebook', 'timeseries data analysis of iot events by using jupyter notebook', 'insights from new york car accident reports', 'fortune 100 companies', 'fortune 100 companies', 'insights from new york car accident reports', 'insights from new york car accident reports', 'insights from new york car accident reports', 'timeseries data analysis of iot events by using jupyter notebook', 'ibm watson facebook posts for 2015', 'insights from new york car accident reports', 'gosales transactions for logistic regression model', 'gosales transactions for logistic regression model', 'insights from new york car accident reports', 'insights from new york car accident reports', 'ibm watson facebook posts for 2015', 'insights from new york car accident reports', 'insights from new york car accident reports', 'insights from new york car accident reports', 'insights from new york car accident reports', 'insights from new york car accident reports', 'insights from new york car accident reports', 'insights from new york car accident reports', 'insights from new york car accident reports', 'insights from new york car accident reports', 'gosales transactions for logistic regression model', 'insights from new york car accident reports', 'ibm watson facebook posts for 2015', 'insights from new york car accident reports', 'gosales transactions for logistic regression model', 'insights from new york car accident reports', 'insights from new york car accident reports', 'insights from new york car accident reports', 'insights from new york car accident reports', 'insights from new york car accident reports', 'insights from new york car accident reports', 'insights from new york car accident reports', 'insights from new york car accident reports', 'insights from new york car accident reports', 'insights from new york car accident reports', 'insights from new york car accident reports', 'insights from new york car accident reports', 'insights from new york car accident reports', 'ibm watson facebook posts for 2015', 'insights from new york car accident reports', 'ibm watson facebook posts for 2015', 'insights from new york car accident reports', 'insights from new york car accident reports', 'insights from new york car accident reports', 'fortune 100 companies', 'insights from new york car accident reports', 'insights from new york car accident reports', 'insights from new york car accident reports', 'insights from new york car accident reports', 'insights from new york car accident reports', 'insights from new york car accident reports', 'insights from new york car accident reports', 'insights from new york car accident reports', 'timeseries data analysis of iot events by using jupyter notebook', 'fortune 100 companies', 'timeseries data analysis of iot events by using jupyter notebook', 'insights from new york car accident reports', 'gosales transactions for logistic regression model', 'insights from new york car accident reports', 'insights from new york car accident reports', 'timeseries data analysis of iot events by using jupyter notebook', 'accelerate your workflow with dsx', 'using deep learning to reconstruct high-resolution audio', 'timeseries data analysis of iot events by using jupyter notebook', 'using deep learning to reconstruct high-resolution audio', 'ibm watson facebook posts for 2015', 'timeseries data analysis of iot events by using jupyter notebook', 'insights from new york car accident reports', 'ibm watson facebook posts for 2015', 'gosales transactions for logistic regression model', 'ibm watson facebook posts for 2015', 'gosales transactions for logistic regression model', 'gosales transactions for logistic regression model', 'gosales transactions for logistic regression model', 'gosales transactions for logistic regression model', 'gosales transactions for logistic regression model', 'gosales transactions for logistic regression model', 'gosales transactions for logistic regression model', 'gosales transactions for logistic regression model', 'gosales transactions for logistic regression model', 'gosales transactions for logistic regression model', 'gosales transactions for logistic regression model', 'gosales transactions for logistic regression model', 'fortune 100 companies', 'ibm watson facebook posts for 2015', 'insights from new york car accident reports', 'gosales transactions for logistic regression model', 'insights from new york car accident reports', 'insights from new york car accident reports', 'gosales transactions for logistic regression model', 'gosales transactions for logistic regression model', 'ibm watson facebook posts for 2015', 'gosales transactions for logistic regression model', 'insights from new york car accident reports', 'ibm watson facebook posts for 2015', 'ingest data from message hub in a streams flow', 'ibm watson facebook posts for 2015', 'ibm watson facebook posts for 2015', 'fortune 100 companies', 'insights from new york car accident reports', 'insights from new york car accident reports', 'insights from new york car accident reports', 'insights from new york car accident reports', 'gosales transactions for logistic regression model', 'gosales transactions for logistic regression model', 'gosales transactions for logistic regression model', 'insights from new york car accident reports', 'gosales transactions for logistic regression model', 'fortune 100 companies', 'gosales transactions for logistic regression model', 'timeseries data analysis of iot events by using jupyter notebook', 'timeseries data analysis of iot events by using jupyter notebook', 'timeseries data analysis of iot events by using jupyter notebook', 'timeseries data analysis of iot events by using jupyter notebook', 'gosales transactions for logistic regression model', 'accelerate your workflow with dsx', 'timeseries data analysis of iot events by using jupyter notebook', 'timeseries data analysis of iot events by using jupyter notebook', 'gosales transactions for logistic regression model', 'gosales transactions for logistic regression model', 'gosales transactions for logistic regression model', 'insights from new york car accident reports', 'insights from new york car accident reports', 'insights from new york car accident reports', 'insights from new york car accident reports', 'insights from new york car accident reports', 'insights from new york car accident reports', 'insights from new york car accident reports', 'accelerate your workflow with dsx', 'insights from new york car accident reports', 'insights from new york car accident reports', 'insights from new york car accident reports', 'insights from new york car accident reports', 'insights from new york car accident reports', 'timeseries data analysis of iot events by using jupyter notebook', 'insights from new york car accident reports', 'insights from new york car accident reports', 'gosales transactions for logistic regression model', 'using deep learning to reconstruct high-resolution audio', 'insights from new york car accident reports', 'gosales transactions for logistic regression model', 'fortune 100 companies', 'gosales transactions for logistic regression model', 'gosales transactions for logistic regression model', 'gosales transactions for logistic regression model', 'timeseries data analysis of iot events by using jupyter notebook', 'gosales transactions for logistic regression model', 'gosales transactions for logistic regression model', 'gosales transactions for logistic regression model', 'gosales transactions for logistic regression model', 'gosales transactions for logistic regression model', '10 powerful features on watson data platform, no coding necessary', '10 powerful features on watson data platform, no coding necessary', 'insights from new york car accident reports', 'fortune 100 companies', 'insights from new york car accident reports', 'ibm watson facebook posts for 2015', 'fortune 100 companies', 'insights from new york car accident reports', 'timeseries data analysis of iot events by using jupyter notebook', 'ibm watson facebook posts for 2015', 'fortune 100 companies', 'gosales transactions for logistic regression model', 'gosales transactions for logistic regression model', 'insights from new york car accident reports', 'ibm watson facebook posts for 2015', 'timeseries data analysis of iot events by using jupyter notebook', 'insights from new york car accident reports', 'insights from new york car accident reports', 'insights from new york car accident reports', 'insights from new york car accident reports', 'using deep learning to reconstruct high-resolution audio', 'accelerate your workflow with dsx', 'accelerate your workflow with dsx', 'fortune 100 companies', 'insights from new york car accident reports', 'gosales transactions for logistic regression model', 'gosales transactions for logistic regression model', 'gosales transactions for logistic regression model', 'using deep learning to reconstruct high-resolution audio', 'timeseries data analysis of iot events by using jupyter notebook', 'accelerate your workflow with dsx', 'insights from new york car accident reports', 'insights from new york car accident reports', 'timeseries data analysis of iot events by using jupyter notebook', 'insights from new york car accident reports', 'insights from new york car accident reports', 'insights from new york car accident reports', 'timeseries data analysis of iot events by using jupyter notebook', 'fortune 100 companies', 'insights from new york car accident reports', 'insights from new york car accident reports', 'fortune 100 companies', 'insights from new york car accident reports', 'ibm watson facebook posts for 2015', 'insights from new york car accident reports', 'insights from new york car accident reports', 'ibm watson facebook posts for 2015', 'ibm watson facebook posts for 2015', 'ibm watson facebook posts for 2015']\n"
     ]
    }
   ],
   "source": [
    "# Quick spot check - don't change this code - just use it to test your functions\n",
    "rec_ids, rec_names = user_user_recs_part2(20, 10)\n",
    "print(\"The top 10 recommendations for user 20 are the following article ids:\")\n",
    "print(rec_ids)\n",
    "print()\n",
    "print(\"The top 10 recommendations for user 20 are the following article names:\")\n",
    "print(rec_names)"
   ]
  },
  {
   "cell_type": "markdown",
   "metadata": {},
   "source": [
    "`5.` Use your functions from above to correctly fill in the solutions to the dictionary below.  Then test your dictionary against the solution.  Provide the code you need to answer each following the comments below."
   ]
  },
  {
   "cell_type": "code",
   "execution_count": 34,
   "metadata": {},
   "outputs": [
    {
     "data": {
      "text/plain": [
       "neighbor_id         3933\n",
       "similarity            35\n",
       "num_interactions      45\n",
       "Name: 3933, dtype: int64"
      ]
     },
     "execution_count": 34,
     "metadata": {},
     "output_type": "execute_result"
    }
   ],
   "source": [
    "get_top_sorted_users(1).iloc[0]"
   ]
  },
  {
   "cell_type": "code",
   "execution_count": 35,
   "metadata": {},
   "outputs": [
    {
     "data": {
      "text/plain": [
       "neighbor_id         242\n",
       "similarity           25\n",
       "num_interactions    148\n",
       "Name: 242, dtype: int64"
      ]
     },
     "execution_count": 35,
     "metadata": {},
     "output_type": "execute_result"
    }
   ],
   "source": [
    "get_top_sorted_users(131).iloc[9]"
   ]
  },
  {
   "cell_type": "code",
   "execution_count": 36,
   "metadata": {
    "collapsed": true
   },
   "outputs": [],
   "source": [
    "### Tests with a dictionary of results\n",
    "\n",
    "user1_most_sim = 3933 # Find the user that is most similar to user 1 \n",
    "user131_10th_sim = 242 # Find the 10th most similar user to user 131"
   ]
  },
  {
   "cell_type": "code",
   "execution_count": 37,
   "metadata": {
    "collapsed": true
   },
   "outputs": [
    {
     "name": "stdout",
     "output_type": "stream",
     "text": [
      "This all looks good!  Nice job!\n"
     ]
    }
   ],
   "source": [
    "## Dictionary Test Here\n",
    "sol_5_dict = {\n",
    "    'The user that is most similar to user 1.': user1_most_sim, \n",
    "    'The user that is the 10th most similar to user 131': user131_10th_sim,\n",
    "}\n",
    "\n",
    "t.sol_5_test(sol_5_dict)"
   ]
  },
  {
   "cell_type": "markdown",
   "metadata": {},
   "source": [
    "`6.` If we were given a new user, which of the above functions would you be able to use to make recommendations?  Explain.  Can you think of a better way we might make recommendations?  Use the cell below to explain a better method for new users."
   ]
  },
  {
   "cell_type": "markdown",
   "metadata": {},
   "source": [
    "**Provide your response here.**"
   ]
  },
  {
   "cell_type": "markdown",
   "metadata": {},
   "source": [
    "`7.` Using your existing functions, provide the top 10 recommended articles you would provide for the a new user below.  You can test your function against our thoughts to make sure we are all on the same page with how we might make a recommendation."
   ]
  },
  {
   "cell_type": "code",
   "execution_count": 38,
   "metadata": {
    "collapsed": true
   },
   "outputs": [],
   "source": [
    "new_user = '0.0'\n",
    "\n",
    "# What would your recommendations be for this new user '0.0'?  As a new user, they have no observed articles.\n",
    "# Provide a list of the top 10 article ids you would give to \n",
    "new_user_recs = [str(id) for id in get_top_article_ids(10)] # Your recommendations here"
   ]
  },
  {
   "cell_type": "code",
   "execution_count": 39,
   "metadata": {
    "collapsed": true
   },
   "outputs": [
    {
     "name": "stdout",
     "output_type": "stream",
     "text": [
      "That's right!  Nice job!\n"
     ]
    }
   ],
   "source": [
    "assert set(new_user_recs) == set(['1314.0','1429.0','1293.0','1427.0','1162.0','1364.0','1304.0','1170.0','1431.0','1330.0']), \"Oops!  It makes sense that in this case we would want to recommend the most popular articles, because we don't know anything about these users.\"\n",
    "\n",
    "print(\"That's right!  Nice job!\")"
   ]
  },
  {
   "cell_type": "markdown",
   "metadata": {},
   "source": [
    "### <a class=\"anchor\" id=\"Content-Recs\">Part IV: Content Based Recommendations (EXTRA - NOT REQUIRED)</a>\n",
    "\n",
    "Another method we might use to make recommendations is to perform a ranking of the highest ranked articles associated with some term.  You might consider content to be the **doc_body**, **doc_description**, or **doc_full_name**.  There isn't one way to create a content based recommendation, especially considering that each of these columns hold content related information.  \n",
    "\n",
    "`1.` Use the function body below to create a content based recommender.  Since there isn't one right answer for this recommendation tactic, no test functions are provided.  Feel free to change the function inputs if you decide you want to try a method that requires more input values.  The input values are currently set with one idea in mind that you may use to make content based recommendations.  One additional idea is that you might want to choose the most popular recommendations that meet your 'content criteria', but again, there is a lot of flexibility in how you might make these recommendations.\n",
    "\n",
    "### This part is NOT REQUIRED to pass this project.  However, you may choose to take this on as an extra way to show off your skills."
   ]
  },
  {
   "cell_type": "code",
   "execution_count": 40,
   "metadata": {
    "collapsed": true
   },
   "outputs": [],
   "source": [
    "def make_content_recs():\n",
    "    '''\n",
    "    INPUT:\n",
    "    \n",
    "    OUTPUT:\n",
    "    \n",
    "    '''"
   ]
  },
  {
   "cell_type": "markdown",
   "metadata": {},
   "source": [
    "`2.` Now that you have put together your content-based recommendation system, use the cell below to write a summary explaining how your content based recommender works.  Do you see any possible improvements that could be made to your function?  Is there anything novel about your content based recommender?\n",
    "\n",
    "### This part is NOT REQUIRED to pass this project.  However, you may choose to take this on as an extra way to show off your skills."
   ]
  },
  {
   "cell_type": "markdown",
   "metadata": {},
   "source": [
    "**Write an explanation of your content based recommendation system here.**"
   ]
  },
  {
   "cell_type": "markdown",
   "metadata": {},
   "source": [
    "`3.` Use your content-recommendation system to make recommendations for the below scenarios based on the comments.  Again no tests are provided here, because there isn't one right answer that could be used to find these content based recommendations.\n",
    "\n",
    "### This part is NOT REQUIRED to pass this project.  However, you may choose to take this on as an extra way to show off your skills."
   ]
  },
  {
   "cell_type": "code",
   "execution_count": 41,
   "metadata": {
    "collapsed": true
   },
   "outputs": [],
   "source": [
    "# make recommendations for a brand new user\n",
    "\n",
    "\n",
    "# make a recommendations for a user who only has interacted with article id '1427.0'\n",
    "\n"
   ]
  },
  {
   "cell_type": "markdown",
   "metadata": {},
   "source": [
    "### <a class=\"anchor\" id=\"Matrix-Fact\">Part V: Matrix Factorization</a>\n",
    "\n",
    "In this part of the notebook, you will build use matrix factorization to make article recommendations to the users on the IBM Watson Studio platform.\n",
    "\n",
    "`1.` You should have already created a **user_item** matrix above in **question 1** of **Part III** above.  This first question here will just require that you run the cells to get things set up for the rest of **Part V** of the notebook. "
   ]
  },
  {
   "cell_type": "code",
   "execution_count": 42,
   "metadata": {
    "collapsed": true
   },
   "outputs": [],
   "source": [
    "# Load the matrix here\n",
    "user_item_matrix = pd.read_pickle('../test/user_item_matrix.p')"
   ]
  },
  {
   "cell_type": "code",
   "execution_count": 43,
   "metadata": {
    "collapsed": true
   },
   "outputs": [
    {
     "data": {
      "text/html": [
       "<div>\n",
       "<style scoped>\n",
       "    .dataframe tbody tr th:only-of-type {\n",
       "        vertical-align: middle;\n",
       "    }\n",
       "\n",
       "    .dataframe tbody tr th {\n",
       "        vertical-align: top;\n",
       "    }\n",
       "\n",
       "    .dataframe thead th {\n",
       "        text-align: right;\n",
       "    }\n",
       "</style>\n",
       "<table border=\"1\" class=\"dataframe\">\n",
       "  <thead>\n",
       "    <tr style=\"text-align: right;\">\n",
       "      <th>article_id</th>\n",
       "      <th>0.0</th>\n",
       "      <th>100.0</th>\n",
       "      <th>1000.0</th>\n",
       "      <th>1004.0</th>\n",
       "      <th>1006.0</th>\n",
       "      <th>1008.0</th>\n",
       "      <th>101.0</th>\n",
       "      <th>1014.0</th>\n",
       "      <th>1015.0</th>\n",
       "      <th>1016.0</th>\n",
       "      <th>...</th>\n",
       "      <th>977.0</th>\n",
       "      <th>98.0</th>\n",
       "      <th>981.0</th>\n",
       "      <th>984.0</th>\n",
       "      <th>985.0</th>\n",
       "      <th>986.0</th>\n",
       "      <th>990.0</th>\n",
       "      <th>993.0</th>\n",
       "      <th>996.0</th>\n",
       "      <th>997.0</th>\n",
       "    </tr>\n",
       "    <tr>\n",
       "      <th>user_id</th>\n",
       "      <th></th>\n",
       "      <th></th>\n",
       "      <th></th>\n",
       "      <th></th>\n",
       "      <th></th>\n",
       "      <th></th>\n",
       "      <th></th>\n",
       "      <th></th>\n",
       "      <th></th>\n",
       "      <th></th>\n",
       "      <th></th>\n",
       "      <th></th>\n",
       "      <th></th>\n",
       "      <th></th>\n",
       "      <th></th>\n",
       "      <th></th>\n",
       "      <th></th>\n",
       "      <th></th>\n",
       "      <th></th>\n",
       "      <th></th>\n",
       "      <th></th>\n",
       "    </tr>\n",
       "  </thead>\n",
       "  <tbody>\n",
       "    <tr>\n",
       "      <th>1</th>\n",
       "      <td>0.0</td>\n",
       "      <td>0.0</td>\n",
       "      <td>0.0</td>\n",
       "      <td>0.0</td>\n",
       "      <td>0.0</td>\n",
       "      <td>0.0</td>\n",
       "      <td>0.0</td>\n",
       "      <td>0.0</td>\n",
       "      <td>0.0</td>\n",
       "      <td>0.0</td>\n",
       "      <td>...</td>\n",
       "      <td>0.0</td>\n",
       "      <td>0.0</td>\n",
       "      <td>1.0</td>\n",
       "      <td>0.0</td>\n",
       "      <td>0.0</td>\n",
       "      <td>0.0</td>\n",
       "      <td>0.0</td>\n",
       "      <td>0.0</td>\n",
       "      <td>0.0</td>\n",
       "      <td>0.0</td>\n",
       "    </tr>\n",
       "    <tr>\n",
       "      <th>2</th>\n",
       "      <td>0.0</td>\n",
       "      <td>0.0</td>\n",
       "      <td>0.0</td>\n",
       "      <td>0.0</td>\n",
       "      <td>0.0</td>\n",
       "      <td>0.0</td>\n",
       "      <td>0.0</td>\n",
       "      <td>0.0</td>\n",
       "      <td>0.0</td>\n",
       "      <td>0.0</td>\n",
       "      <td>...</td>\n",
       "      <td>0.0</td>\n",
       "      <td>0.0</td>\n",
       "      <td>0.0</td>\n",
       "      <td>0.0</td>\n",
       "      <td>0.0</td>\n",
       "      <td>0.0</td>\n",
       "      <td>0.0</td>\n",
       "      <td>0.0</td>\n",
       "      <td>0.0</td>\n",
       "      <td>0.0</td>\n",
       "    </tr>\n",
       "    <tr>\n",
       "      <th>3</th>\n",
       "      <td>0.0</td>\n",
       "      <td>0.0</td>\n",
       "      <td>0.0</td>\n",
       "      <td>0.0</td>\n",
       "      <td>0.0</td>\n",
       "      <td>0.0</td>\n",
       "      <td>0.0</td>\n",
       "      <td>0.0</td>\n",
       "      <td>0.0</td>\n",
       "      <td>0.0</td>\n",
       "      <td>...</td>\n",
       "      <td>1.0</td>\n",
       "      <td>0.0</td>\n",
       "      <td>0.0</td>\n",
       "      <td>0.0</td>\n",
       "      <td>0.0</td>\n",
       "      <td>0.0</td>\n",
       "      <td>0.0</td>\n",
       "      <td>0.0</td>\n",
       "      <td>0.0</td>\n",
       "      <td>0.0</td>\n",
       "    </tr>\n",
       "    <tr>\n",
       "      <th>4</th>\n",
       "      <td>0.0</td>\n",
       "      <td>0.0</td>\n",
       "      <td>0.0</td>\n",
       "      <td>0.0</td>\n",
       "      <td>0.0</td>\n",
       "      <td>0.0</td>\n",
       "      <td>0.0</td>\n",
       "      <td>0.0</td>\n",
       "      <td>0.0</td>\n",
       "      <td>0.0</td>\n",
       "      <td>...</td>\n",
       "      <td>0.0</td>\n",
       "      <td>0.0</td>\n",
       "      <td>0.0</td>\n",
       "      <td>0.0</td>\n",
       "      <td>0.0</td>\n",
       "      <td>0.0</td>\n",
       "      <td>0.0</td>\n",
       "      <td>0.0</td>\n",
       "      <td>0.0</td>\n",
       "      <td>0.0</td>\n",
       "    </tr>\n",
       "    <tr>\n",
       "      <th>5</th>\n",
       "      <td>0.0</td>\n",
       "      <td>0.0</td>\n",
       "      <td>0.0</td>\n",
       "      <td>0.0</td>\n",
       "      <td>0.0</td>\n",
       "      <td>0.0</td>\n",
       "      <td>0.0</td>\n",
       "      <td>0.0</td>\n",
       "      <td>0.0</td>\n",
       "      <td>0.0</td>\n",
       "      <td>...</td>\n",
       "      <td>0.0</td>\n",
       "      <td>0.0</td>\n",
       "      <td>0.0</td>\n",
       "      <td>0.0</td>\n",
       "      <td>0.0</td>\n",
       "      <td>0.0</td>\n",
       "      <td>0.0</td>\n",
       "      <td>0.0</td>\n",
       "      <td>0.0</td>\n",
       "      <td>0.0</td>\n",
       "    </tr>\n",
       "  </tbody>\n",
       "</table>\n",
       "<p>5 rows × 714 columns</p>\n",
       "</div>"
      ],
      "text/plain": [
       "article_id  0.0  100.0  1000.0  1004.0  1006.0  1008.0  101.0  1014.0  1015.0  \\\n",
       "user_id                                                                         \n",
       "1           0.0    0.0     0.0     0.0     0.0     0.0    0.0     0.0     0.0   \n",
       "2           0.0    0.0     0.0     0.0     0.0     0.0    0.0     0.0     0.0   \n",
       "3           0.0    0.0     0.0     0.0     0.0     0.0    0.0     0.0     0.0   \n",
       "4           0.0    0.0     0.0     0.0     0.0     0.0    0.0     0.0     0.0   \n",
       "5           0.0    0.0     0.0     0.0     0.0     0.0    0.0     0.0     0.0   \n",
       "\n",
       "article_id  1016.0  ...  977.0  98.0  981.0  984.0  985.0  986.0  990.0  \\\n",
       "user_id             ...                                                   \n",
       "1              0.0  ...    0.0   0.0    1.0    0.0    0.0    0.0    0.0   \n",
       "2              0.0  ...    0.0   0.0    0.0    0.0    0.0    0.0    0.0   \n",
       "3              0.0  ...    1.0   0.0    0.0    0.0    0.0    0.0    0.0   \n",
       "4              0.0  ...    0.0   0.0    0.0    0.0    0.0    0.0    0.0   \n",
       "5              0.0  ...    0.0   0.0    0.0    0.0    0.0    0.0    0.0   \n",
       "\n",
       "article_id  993.0  996.0  997.0  \n",
       "user_id                          \n",
       "1             0.0    0.0    0.0  \n",
       "2             0.0    0.0    0.0  \n",
       "3             0.0    0.0    0.0  \n",
       "4             0.0    0.0    0.0  \n",
       "5             0.0    0.0    0.0  \n",
       "\n",
       "[5 rows x 714 columns]"
      ]
     },
     "execution_count": 43,
     "metadata": {},
     "output_type": "execute_result"
    }
   ],
   "source": [
    "# quick look at the matrix\n",
    "user_item_matrix.head()"
   ]
  },
  {
   "cell_type": "markdown",
   "metadata": {},
   "source": [
    "`2.` In this situation, you can use Singular Value Decomposition from [numpy](https://docs.scipy.org/doc/numpy-1.14.0/reference/generated/numpy.linalg.svd.html) on the user-item matrix.  Use the cell to perform SVD, and explain why this is different than in the lesson."
   ]
  },
  {
   "cell_type": "code",
   "execution_count": 44,
   "metadata": {
    "collapsed": true
   },
   "outputs": [],
   "source": [
    "# Perform SVD on the User-Item Matrix Here\n",
    "# use the built in to get the three matrices\n",
    "u, s, vt = np.linalg.svd(user_item_matrix)"
   ]
  },
  {
   "cell_type": "markdown",
   "metadata": {},
   "source": [
    "**Provide your response here.**"
   ]
  },
  {
   "cell_type": "markdown",
   "metadata": {},
   "source": [
    "SVD from numpy can be applied in this case because our matrix only contains binary values (1 for interaction and 0 for no interaction), without any null values. In contrast to the lesson where the matrix had missing values and contained ratings, this project only indicates whether a user has viewed an article or not, allowing us to use numpy's SVD."
   ]
  },
  {
   "cell_type": "markdown",
   "metadata": {},
   "source": [
    "`3.` Now for the tricky part, how do we choose the number of latent features to use?  Running the below cell, you can see that as the number of latent features increases, we obtain a lower error rate on making predictions for the 1 and 0 values in the user-item matrix.  Run the cell below to get an idea of how the accuracy improves as we increase the number of latent features."
   ]
  },
  {
   "cell_type": "code",
   "execution_count": 45,
   "metadata": {
    "collapsed": true
   },
   "outputs": [
    {
     "data": {
      "image/png": "[encoded data removed]",
      "text/plain": [
       "<Figure size 640x480 with 1 Axes>"
      ]
     },
     "metadata": {},
     "output_type": "display_data"
    }
   ],
   "source": [
    "num_latent_feats = np.arange(10,700+10,20)\n",
    "sum_errs = []\n",
    "\n",
    "for k in num_latent_feats:\n",
    "    # restructure with k latent features\n",
    "    s_new, u_new, vt_new = np.diag(s[:k]), u[:, :k], vt[:k, :]\n",
    "    \n",
    "    # take dot product\n",
    "    user_item_est = np.around(np.dot(np.dot(u_new, s_new), vt_new))\n",
    "    \n",
    "    # compute error for each prediction to actual value\n",
    "    diffs = np.subtract(user_item_matrix, user_item_est)\n",
    "    \n",
    "    # total errors and keep track of them\n",
    "    err = np.sum(np.sum(np.abs(diffs), axis=0), axis=0)\n",
    "    sum_errs.append(err)\n",
    "    \n",
    "    \n",
    "plt.plot(num_latent_feats, 1 - np.array(sum_errs)/df.shape[0])\n",
    "plt.xlabel('Number of Latent Features')\n",
    "plt.ylabel('Accuracy')\n",
    "plt.title('Accuracy vs. Number of Latent Features')\n",
    "plt.show()"
   ]
  },
  {
   "cell_type": "markdown",
   "metadata": {},
   "source": [
    "`4.` From the above, we can't really be sure how many features to use, because simply having a better way to predict the 1's and 0's of the matrix doesn't exactly give us an indication of if we are able to make good recommendations.  Instead, we might split our dataset into a training and test set of data, as shown in the cell below.  \n",
    "\n",
    "Use the code from question 3 to understand the impact on accuracy of the training and test sets of data with different numbers of latent features. Using the split below: \n",
    "\n",
    "* How many users can we make predictions for in the test set?  \n",
    "* How many users are we not able to make predictions for because of the cold start problem?\n",
    "* How many articles can we make predictions for in the test set?  \n",
    "* How many articles are we not able to make predictions for because of the cold start problem?"
   ]
  },
  {
   "cell_type": "code",
   "execution_count": 46,
   "metadata": {
    "collapsed": true
   },
   "outputs": [],
   "source": [
    "df_train = df.head(40000)\n",
    "df_test = df.tail(5993)\n",
    "\n",
    "\n",
    "def create_test_and_train_user_item(df_train, df_test):\n",
    "    \"\"\"\n",
    "    INPUT:\n",
    "    df_train - training dataframe\n",
    "    df_test - test dataframe\n",
    "\n",
    "    OUTPUT:\n",
    "    user_item_train - a user-item matrix of the training dataframe\n",
    "                      (unique users for each row and unique articles for each column)\n",
    "    user_item_test - a user-item matrix of the testing dataframe\n",
    "                    (unique users for each row and unique articles for each column)\n",
    "    test_idx - all of the test user ids\n",
    "    test_arts - all of the test article ids\n",
    "\n",
    "    \"\"\"\n",
    "    # Your code here\n",
    "    user_item_train = create_user_item_matrix(df_train)\n",
    "    user_item_test = create_user_item_matrix(df_test)\n",
    "\n",
    "    test_idx = user_item_test.index\n",
    "    test_arts = user_item_test.columns\n",
    "\n",
    "    return user_item_train, user_item_test, test_idx, test_arts\n",
    "\n",
    "\n",
    "(\n",
    "    user_item_train,\n",
    "    user_item_test,\n",
    "    test_idx,\n",
    "    test_arts,\n",
    ") = create_test_and_train_user_item(df_train, df_test)\n"
   ]
  },
  {
   "cell_type": "code",
   "execution_count": 47,
   "metadata": {},
   "outputs": [
    {
     "name": "stdout",
     "output_type": "stream",
     "text": [
      "user_item_train (4487, 714)\n",
      "user_item_test (682, 574)\n"
     ]
    }
   ],
   "source": [
    "print(f'user_item_train {user_item_train.shape}')\n",
    "print(f'user_item_test {user_item_test.shape}')"
   ]
  },
  {
   "cell_type": "code",
   "execution_count": 48,
   "metadata": {},
   "outputs": [
    {
     "data": {
      "text/plain": [
       "682"
      ]
     },
     "execution_count": 48,
     "metadata": {},
     "output_type": "execute_result"
    }
   ],
   "source": [
    "# total number of user in test set\n",
    "len(test_idx)"
   ]
  },
  {
   "cell_type": "code",
   "execution_count": 49,
   "metadata": {},
   "outputs": [
    {
     "name": "stdout",
     "output_type": "stream",
     "text": [
      "common idx len: 20\n",
      "common cols len: 574\n"
     ]
    }
   ],
   "source": [
    "train_idx = user_item_train.index\n",
    "common_idx = list(set(train_idx)&set(test_idx))\n",
    "common_cols = user_item_train.columns.intersection(test_arts)\n",
    "print(f\"common idx len: {len(common_idx)}\")\n",
    "print(f\"common cols len: {len(common_cols)}\")"
   ]
  },
  {
   "cell_type": "code",
   "execution_count": 50,
   "metadata": {
    "collapsed": true
   },
   "outputs": [
    {
     "name": "stdout",
     "output_type": "stream",
     "text": [
      "Awesome job!  That's right!  All of the test articles are in the training data, but there are only 20 test users that were also in the training set.  All of the other users that are in the test set we have no data on.  Therefore, we cannot make predictions for these users using SVD.\n"
     ]
    }
   ],
   "source": [
    "# Replace the values in the dictionary below\n",
    "a = 662 \n",
    "b = 574 \n",
    "c = 20 \n",
    "d = 0 \n",
    "\n",
    "\n",
    "sol_4_dict = {\n",
    "    'How many users can we make predictions for in the test set?': c, # letter here, \n",
    "    'How many users in the test set are we not able to make predictions for because of the cold start problem?': a, # letter here, \n",
    "    'How many articles can we make predictions for in the test set?': b, # letter here,\n",
    "    'How many articles in the test set are we not able to make predictions for because of the cold start problem?': d# letter here\n",
    "}\n",
    "\n",
    "t.sol_4_test(sol_4_dict)"
   ]
  },
  {
   "cell_type": "markdown",
   "metadata": {},
   "source": [
    "`5.` Now use the **user_item_train** dataset from above to find U, S, and V transpose using SVD. Then find the subset of rows in the **user_item_test** dataset that you can predict using this matrix decomposition with different numbers of latent features to see how many features makes sense to keep based on the accuracy on the test data. This will require combining what was done in questions `2` - `4`.\n",
    "\n",
    "Use the cells below to explore how well SVD works towards making predictions for recommendations on the test data.  "
   ]
  },
  {
   "cell_type": "code",
   "execution_count": 51,
   "metadata": {
    "collapsed": true
   },
   "outputs": [
    {
     "name": "stdout",
     "output_type": "stream",
     "text": [
      "train: ((4487, 4487), (714,), (714, 714))\n"
     ]
    }
   ],
   "source": [
    "# fit SVD on the user_item_train matrix\n",
    "# fit svd similar to above then use the cells below\n",
    "u_train, s_train, vt_train = np.linalg.svd(user_item_train) \n",
    "print(f'train: { u_train.shape, s_train.shape, vt_train.shape}')"
   ]
  },
  {
   "cell_type": "code",
   "execution_count": 52,
   "metadata": {
    "collapsed": true
   },
   "outputs": [],
   "source": [
    "# Use these cells to see how well you can use the training \n",
    "# decomposition to predict on test data\n",
    "train_common_idx = user_item_train.index.isin(test_idx)\n",
    "train_common_col = user_item_train.columns.isin(test_arts)"
   ]
  },
  {
   "cell_type": "code",
   "execution_count": 53,
   "metadata": {
    "collapsed": true
   },
   "outputs": [
    {
     "name": "stdout",
     "output_type": "stream",
     "text": [
      "test:  (20, 4487) (714, 574)\n"
     ]
    }
   ],
   "source": [
    "u_test = u_train[train_common_idx, :]\n",
    "vt_test = vt_train[:, train_common_col]\n",
    "print('test: ', u_test.shape, vt_test.shape)"
   ]
  },
  {
   "cell_type": "code",
   "execution_count": 54,
   "metadata": {},
   "outputs": [],
   "source": [
    "# Subset test data based on common indices\n",
    "user_item_test_subset = user_item_test.loc[common_idx]\n",
    "\n",
    "# Define range for number of latent features\n",
    "latent_feature_range = np.arange(10, 700 + 10, 20)\n",
    "\n",
    "# Initialize lists to store errors\n",
    "train_errors = []\n",
    "test_errors = []\n",
    "\n",
    "# Iterate through each number of latent features\n",
    "for k in latent_feature_range:\n",
    "    # Truncate the U, S, and V matrices for the current number of \n",
    "    # latent features\n",
    "    s_train_new, u_train_new, vt_train_new = (\n",
    "        np.diag(s_train[:k]),\n",
    "        u_train[:, :k],\n",
    "        vt_train[:k, :],\n",
    "    )\n",
    "\n",
    "    # Truncate test U and V matrices\n",
    "    u_test_new, vt_test_new = u_test[:, :k], vt_test[:k, :]\n",
    "\n",
    "    # Compute estimated ratings for training and test sets\n",
    "    user_item_train_est = np.around(\n",
    "        np.dot(np.dot(u_train_new, s_train_new), vt_train_new)\n",
    "    )\n",
    "    user_item_test_est = np.around(\n",
    "        np.dot(np.dot(u_test_new, s_train_new), vt_test_new)\n",
    "    )\n",
    "\n",
    "    # Calculate differences between actual and estimated ratings \n",
    "    # for train and test sets\n",
    "    diffs_train = np.subtract(user_item_train, user_item_train_est)\n",
    "    diffs_test = np.subtract(user_item_test_subset, user_item_test_est)\n",
    "\n",
    "    # Calculate and store total error for training and test sets\n",
    "    train_err = np.sum(np.sum(np.abs(diffs_train), axis=0), axis=0)\n",
    "    train_errors.append(train_err)\n",
    "\n",
    "    test_err = np.sum(np.sum(np.abs(diffs_test), axis=0), axis=0)\n",
    "    test_errors.append(test_err)\n"
   ]
  },
  {
   "cell_type": "code",
   "execution_count": 55,
   "metadata": {},
   "outputs": [
    {
     "data": {
      "image/png": "[encoded data removed]",
      "text/plain": [
       "<Figure size 640x480 with 1 Axes>"
      ]
     },
     "metadata": {},
     "output_type": "display_data"
    }
   ],
   "source": [
    "plt.plot(\n",
    "    latent_feature_range,\n",
    "    1\n",
    "    - (\n",
    "        np.array(train_errors)\n",
    "        / (user_item_train.shape[0] * user_item_train.shape[1])\n",
    "    ),\n",
    "    label=\"train\",\n",
    ")\n",
    "plt.plot(\n",
    "    latent_feature_range,\n",
    "    1\n",
    "    - (\n",
    "        np.array(test_errors)\n",
    "        / (user_item_test_subset.shape[0] * user_item_test_subset.shape[1])\n",
    "    ),\n",
    "    label=\"test\",\n",
    ")\n",
    "plt.legend(loc=\"best\")\n",
    "plt.xlabel(\"Number of Latent Features\")\n",
    "plt.ylabel(\"Accuracy\")\n",
    "plt.title(\"Accuracy vs. Number of Latent Features\")\n",
    "plt.show()\n"
   ]
  },
  {
   "cell_type": "markdown",
   "metadata": {
    "collapsed": true
   },
   "source": [
    "`6.` Use the cell below to comment on the results you found in the previous question. Given the circumstances of your results, discuss what you might do to determine if the recommendations you make with any of the above recommendation systems are an improvement to how users currently find articles? "
   ]
  },
  {
   "cell_type": "markdown",
   "metadata": {},
   "source": [
    "This is a plot showing how the accuracy changes as the number of latent features increases. Ideally, we should observe that accuracy improves as more latent features are used, but at some point, it might start overfitting (i.e., the test accuracy may decrease). This visualization is crucial to finding an optimal number of latent features for our model.\n",
    "\n",
    "In conclusion, the model's performance suggests that increasing latent features can lead to overfitting, as it performs well on training data but poorly on general predictions. Given the sparsity of the data, fewer latent features may be sufficient for accurate predictions. Due to the limited dataset and few overlaps between training and testing, relying solely on SVD for recommendations is not ideal. \n",
    "\n",
    "A hybrid approach, combining multiple recommendation methods and removing duplicates, could improve results, and A/B testing can help assess the system's effectiveness. \n",
    "\n",
    "Future improvements could include tracking user engagement metrics, like time spent on articles, and incorporating user feedback to fine-tune the model."
   ]
  },
  {
   "cell_type": "code",
   "execution_count": 56,
   "metadata": {
    "collapsed": true
   },
   "outputs": [
    {
     "name": "stderr",
     "output_type": "stream",
     "text": [
      "[NbConvertApp] Converting notebook ../src/Recommendations_with_IBM.ipynb to html\n",
      "[NbConvertApp] Writing 405582 bytes to ../src/Recommendations_with_IBM.html\n"
     ]
    },
    {
     "data": {
      "text/plain": [
       "0"
      ]
     },
     "execution_count": 56,
     "metadata": {},
     "output_type": "execute_result"
    }
   ],
   "source": [
    "call(\n",
    "    [\n",
    "        \"jupyter\",\n",
    "        \"nbconvert\",\n",
    "        \"--to\",\n",
    "        \"html\",\n",
    "        \"../src/Recommendations_with_IBM.ipynb\",\n",
    "    ]\n",
    ")"
   ]
  }
 ],
 "metadata": {
  "kernelspec": {
   "display_name": "Python 3",
   "language": "python",
   "name": "python3"
  },
  "language_info": {
   "codemirror_mode": {
    "name": "ipython",
    "version": 3
   },
   "file_extension": ".py",
   "mimetype": "text/x-python",
   "name": "python",
   "nbconvert_exporter": "python",
   "pygments_lexer": "ipython3",
   "version": "3.12.4"
  }
 },
 "nbformat": 4,
 "nbformat_minor": 2
}
